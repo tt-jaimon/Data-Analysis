{
 "cells": [
  {
   "cell_type": "markdown",
   "metadata": {
    "colab_type": "text",
    "id": "uB2vWqGurvHx"
   },
   "source": [
    "# Fast AI Model Prediction Done Over Labelled Data"
   ]
  },
  {
   "cell_type": "markdown",
   "metadata": {
    "colab_type": "text",
    "id": "rzEGlSAnsNHA"
   },
   "source": [
    "## Importing and intalling Libraries Required"
   ]
  },
  {
   "cell_type": "code",
   "execution_count": 1,
   "metadata": {
    "colab": {
     "base_uri": "https://localhost:8080/",
     "height": 726
    },
    "colab_type": "code",
    "id": "wA1TRJUSvkHT",
    "outputId": "3dd042dd-f385-4e34-c4dc-1d83f93d5746"
   },
   "outputs": [
    {
     "name": "stderr",
     "output_type": "stream",
     "text": [
      "/usr/local/lib/python3.6/dist-packages/sklearn/externals/joblib/__init__.py:15: DeprecationWarning: sklearn.externals.joblib is deprecated in 0.21 and will be removed in 0.23. Please import this functionality directly from joblib, which can be installed with: pip install joblib. If this warning is raised when loading pickled models, you may need to re-serialize those models with scikit-learn 0.21+.\n",
      "  warnings.warn(msg, category=DeprecationWarning)\n"
     ]
    },
    {
     "name": "stdout",
     "output_type": "stream",
     "text": [
      "Requirement already satisfied: fastai in /usr/local/lib/python3.6/dist-packages (1.0.58)\n",
      "Requirement already satisfied: fastprogress>=0.1.19 in /usr/local/lib/python3.6/dist-packages (from fastai) (0.1.21)\n",
      "Requirement already satisfied: numexpr in /usr/local/lib/python3.6/dist-packages (from fastai) (2.7.0)\n",
      "Requirement already satisfied: dataclasses; python_version < \"3.7\" in /usr/local/lib/python3.6/dist-packages (from fastai) (0.7)\n",
      "Requirement already satisfied: scipy in /usr/local/lib/python3.6/dist-packages (from fastai) (1.3.1)\n",
      "Requirement already satisfied: pandas in /usr/local/lib/python3.6/dist-packages (from fastai) (0.25.2)\n",
      "Requirement already satisfied: packaging in /usr/local/lib/python3.6/dist-packages (from fastai) (19.2)\n",
      "Requirement already satisfied: torchvision in /usr/local/lib/python3.6/dist-packages (from fastai) (0.4.1+cu100)\n",
      "Requirement already satisfied: bottleneck in /usr/local/lib/python3.6/dist-packages (from fastai) (1.2.1)\n",
      "Requirement already satisfied: torch>=1.0.0 in /usr/local/lib/python3.6/dist-packages (from fastai) (1.3.0+cu100)\n",
      "Requirement already satisfied: matplotlib in /usr/local/lib/python3.6/dist-packages (from fastai) (3.1.1)\n",
      "Requirement already satisfied: Pillow in /usr/local/lib/python3.6/dist-packages (from fastai) (4.3.0)\n",
      "Requirement already satisfied: numpy>=1.15 in /usr/local/lib/python3.6/dist-packages (from fastai) (1.17.3)\n",
      "Requirement already satisfied: nvidia-ml-py3 in /usr/local/lib/python3.6/dist-packages (from fastai) (7.352.0)\n",
      "Requirement already satisfied: spacy>=2.0.18 in /usr/local/lib/python3.6/dist-packages (from fastai) (2.1.8)\n",
      "Requirement already satisfied: pyyaml in /usr/local/lib/python3.6/dist-packages (from fastai) (3.13)\n",
      "Requirement already satisfied: requests in /usr/local/lib/python3.6/dist-packages (from fastai) (2.21.0)\n",
      "Requirement already satisfied: beautifulsoup4 in /usr/local/lib/python3.6/dist-packages (from fastai) (4.6.3)\n",
      "Requirement already satisfied: pytz>=2017.2 in /usr/local/lib/python3.6/dist-packages (from pandas->fastai) (2018.9)\n",
      "Requirement already satisfied: python-dateutil>=2.6.1 in /usr/local/lib/python3.6/dist-packages (from pandas->fastai) (2.6.1)\n",
      "Requirement already satisfied: pyparsing>=2.0.2 in /usr/local/lib/python3.6/dist-packages (from packaging->fastai) (2.4.2)\n",
      "Requirement already satisfied: six in /usr/local/lib/python3.6/dist-packages (from packaging->fastai) (1.12.0)\n",
      "Requirement already satisfied: kiwisolver>=1.0.1 in /usr/local/lib/python3.6/dist-packages (from matplotlib->fastai) (1.1.0)\n",
      "Requirement already satisfied: cycler>=0.10 in /usr/local/lib/python3.6/dist-packages (from matplotlib->fastai) (0.10.0)\n",
      "Requirement already satisfied: olefile in /usr/local/lib/python3.6/dist-packages (from Pillow->fastai) (0.46)\n",
      "Requirement already satisfied: cymem<2.1.0,>=2.0.2 in /usr/local/lib/python3.6/dist-packages (from spacy>=2.0.18->fastai) (2.0.2)\n",
      "Requirement already satisfied: wasabi<1.1.0,>=0.2.0 in /usr/local/lib/python3.6/dist-packages (from spacy>=2.0.18->fastai) (0.2.2)\n",
      "Requirement already satisfied: preshed<2.1.0,>=2.0.1 in /usr/local/lib/python3.6/dist-packages (from spacy>=2.0.18->fastai) (2.0.1)\n",
      "Requirement already satisfied: thinc<7.1.0,>=7.0.8 in /usr/local/lib/python3.6/dist-packages (from spacy>=2.0.18->fastai) (7.0.8)\n",
      "Requirement already satisfied: plac<1.0.0,>=0.9.6 in /usr/local/lib/python3.6/dist-packages (from spacy>=2.0.18->fastai) (0.9.6)\n",
      "Requirement already satisfied: murmurhash<1.1.0,>=0.28.0 in /usr/local/lib/python3.6/dist-packages (from spacy>=2.0.18->fastai) (1.0.2)\n",
      "Requirement already satisfied: blis<0.3.0,>=0.2.2 in /usr/local/lib/python3.6/dist-packages (from spacy>=2.0.18->fastai) (0.2.4)\n",
      "Requirement already satisfied: srsly<1.1.0,>=0.0.6 in /usr/local/lib/python3.6/dist-packages (from spacy>=2.0.18->fastai) (0.1.0)\n",
      "Requirement already satisfied: idna<2.9,>=2.5 in /usr/local/lib/python3.6/dist-packages (from requests->fastai) (2.8)\n",
      "Requirement already satisfied: chardet<3.1.0,>=3.0.2 in /usr/local/lib/python3.6/dist-packages (from requests->fastai) (3.0.4)\n",
      "Requirement already satisfied: urllib3<1.25,>=1.21.1 in /usr/local/lib/python3.6/dist-packages (from requests->fastai) (1.24.3)\n",
      "Requirement already satisfied: certifi>=2017.4.17 in /usr/local/lib/python3.6/dist-packages (from requests->fastai) (2019.9.11)\n",
      "Requirement already satisfied: setuptools in /usr/local/lib/python3.6/dist-packages (from kiwisolver>=1.0.1->matplotlib->fastai) (41.4.0)\n",
      "Requirement already satisfied: tqdm<5.0.0,>=4.10.0 in /usr/local/lib/python3.6/dist-packages (from thinc<7.1.0,>=7.0.8->spacy>=2.0.18->fastai) (4.28.1)\n"
     ]
    }
   ],
   "source": [
    "import pandas as pd #For loading data from csv\n",
    "from sklearn.externals import joblib #For saving the model for future use\n",
    "!pip3 install fastai\n",
    "from fastai.text import *"
   ]
  },
  {
   "cell_type": "markdown",
   "metadata": {
    "colab_type": "text",
    "id": "wG7HDLeert7Y"
   },
   "source": [
    "### Reading Labelled data into Pandas DataFrame\n",
    "\n"
   ]
  },
  {
   "cell_type": "code",
   "execution_count": 4,
   "metadata": {
    "colab": {
     "base_uri": "https://localhost:8080/",
     "height": 195
    },
    "colab_type": "code",
    "id": "A738mRZkv0u9",
    "outputId": "92ba59be-fe04-4e81-95e1-eff365d11354"
   },
   "outputs": [
    {
     "data": {
      "text/html": [
       "<div>\n",
       "<style scoped>\n",
       "    .dataframe tbody tr th:only-of-type {\n",
       "        vertical-align: middle;\n",
       "    }\n",
       "\n",
       "    .dataframe tbody tr th {\n",
       "        vertical-align: top;\n",
       "    }\n",
       "\n",
       "    .dataframe thead th {\n",
       "        text-align: right;\n",
       "    }\n",
       "</style>\n",
       "<table border=\"1\" class=\"dataframe\">\n",
       "  <thead>\n",
       "    <tr style=\"text-align: right;\">\n",
       "      <th></th>\n",
       "      <th>text</th>\n",
       "      <th>label</th>\n",
       "    </tr>\n",
       "  </thead>\n",
       "  <tbody>\n",
       "    <tr>\n",
       "      <th>0</th>\n",
       "      <td>The new rule is - \\r\\nif you are waiting for a...</td>\n",
       "      <td>4</td>\n",
       "    </tr>\n",
       "    <tr>\n",
       "      <th>1</th>\n",
       "      <td>Flirted with giving this two stars, but that's...</td>\n",
       "      <td>3</td>\n",
       "    </tr>\n",
       "    <tr>\n",
       "      <th>2</th>\n",
       "      <td>I was staying at planet Hollywood across the s...</td>\n",
       "      <td>5</td>\n",
       "    </tr>\n",
       "    <tr>\n",
       "      <th>3</th>\n",
       "      <td>Food is good but prices are super expensive.  ...</td>\n",
       "      <td>2</td>\n",
       "    </tr>\n",
       "    <tr>\n",
       "      <th>4</th>\n",
       "      <td>Worse company to deal with they do horrible wo...</td>\n",
       "      <td>1</td>\n",
       "    </tr>\n",
       "  </tbody>\n",
       "</table>\n",
       "</div>"
      ],
      "text/plain": [
       "                                                text  label\n",
       "0  The new rule is - \\r\\nif you are waiting for a...      4\n",
       "1  Flirted with giving this two stars, but that's...      3\n",
       "2  I was staying at planet Hollywood across the s...      5\n",
       "3  Food is good but prices are super expensive.  ...      2\n",
       "4  Worse company to deal with they do horrible wo...      1"
      ]
     },
     "execution_count": 4,
     "metadata": {
      "tags": []
     },
     "output_type": "execute_result"
    }
   ],
   "source": [
    "labelled_data = pd.read_csv(\"labeled_data.csv\")\n",
    "labelled_data.head()"
   ]
  },
  {
   "cell_type": "code",
   "execution_count": 3,
   "metadata": {
    "colab": {
     "base_uri": "https://localhost:8080/",
     "height": 121
    },
    "colab_type": "code",
    "id": "kKQmwmuMN8X2",
    "outputId": "af1d0dd5-70c8-4b03-a462-96b947308abc"
   },
   "outputs": [
    {
     "name": "stdout",
     "output_type": "stream",
     "text": [
      "Go to this URL in a browser: https://accounts.google.com/o/oauth2/auth?client_id=947318989803-6bn6qk8qdgf4n4g3pfee6491hc0brc4i.apps.googleusercontent.com&redirect_uri=urn%3Aietf%3Awg%3Aoauth%3A2.0%3Aoob&scope=email%20https%3A%2F%2Fwww.googleapis.com%2Fauth%2Fdocs.test%20https%3A%2F%2Fwww.googleapis.com%2Fauth%2Fdrive%20https%3A%2F%2Fwww.googleapis.com%2Fauth%2Fdrive.photos.readonly%20https%3A%2F%2Fwww.googleapis.com%2Fauth%2Fpeopleapi.readonly&response_type=code\n",
      "\n",
      "Enter your authorization code:\n",
      "··········\n",
      "Mounted at /content/drive\n"
     ]
    }
   ],
   "source": [
    "from google.colab import drive\n",
    "drive.mount('/content/drive')"
   ]
  },
  {
   "cell_type": "markdown",
   "metadata": {
    "colab_type": "text",
    "id": "MTZohW0Evsc-"
   },
   "source": [
    "### Splitting the dataset into training and test dataset (75:25)"
   ]
  },
  {
   "cell_type": "code",
   "execution_count": 0,
   "metadata": {
    "colab": {},
    "colab_type": "code",
    "id": "cDAMiwuGwP5X"
   },
   "outputs": [],
   "source": [
    "train = labelled_data.sample(frac=0.75, random_state=0)\n",
    "test = labelled_data.drop(train.index)"
   ]
  },
  {
   "cell_type": "markdown",
   "metadata": {
    "colab_type": "text",
    "id": "eDspvtJRvx5o"
   },
   "source": [
    "### Load and analyse data for fast ai\n",
    " Fast ai expects the data as a data bunch so that it can use this for generating models. Here we will first create a data bunch with our train data set."
   ]
  },
  {
   "cell_type": "code",
   "execution_count": 6,
   "metadata": {
    "colab": {
     "base_uri": "https://localhost:8080/",
     "height": 330
    },
    "colab_type": "code",
    "id": "sTOaOKQ5vkHa",
    "outputId": "5ab3800b-0e0a-44a9-8932-5adae27888c5"
   },
   "outputs": [
    {
     "data": {
      "text/html": [
       "<table border=\"1\" class=\"dataframe\">\n",
       "  <thead>\n",
       "    <tr style=\"text-align: right;\">\n",
       "      <th>idx</th>\n",
       "      <th>text</th>\n",
       "    </tr>\n",
       "  </thead>\n",
       "  <tbody>\n",
       "    <tr>\n",
       "      <td>0</td>\n",
       "      <td>price to pay when the staff tells you at the track that you have to go to the kiddie karts ... they have their own stick and will measure too xxup before you get on . no reimbursement , no apologies ... xxmaj one measurement one place and another measurement at the track ? ? anyhow . a bit pricey but fun for something to do . xxmaj we are</td>\n",
       "    </tr>\n",
       "    <tr>\n",
       "      <td>1</td>\n",
       "      <td>veggie pad thai with peanut sauce ( extra 50 cents ) and he had the chicken curry with noodles . food was full of flavour and presented very nicely . i even took my leftovers the next day and it was still as good . xxbos xxmaj really enjoyed the food and friendly service . i am a huge xxmaj dim xxmaj sum fan , and would travel miles to</td>\n",
       "    </tr>\n",
       "    <tr>\n",
       "      <td>2</td>\n",
       "      <td>stumble out , my body shocked by the sudden , violent drop of my food - expectation high . i bite into my first dog and it just was n't even close to what i had hoped would be nitrate - xxunk heaven . xxmaj xxunk thinking about how i would be able to scrape the creamy cabbage from my hot dog as i head to the closest garbage bin</td>\n",
       "    </tr>\n",
       "    <tr>\n",
       "      <td>3</td>\n",
       "      <td>walk in and am completely ignored by the lady in the front . i get that it is busy but it is everytime i order or go in . they should at least change the time i have to wait for the item so i am not sitting in the restaurant waiting . i still have yet to get my food ! or even been updated ! \\r \\n \\r</td>\n",
       "    </tr>\n",
       "    <tr>\n",
       "      <td>4</td>\n",
       "      <td>, just before dinner rush at around 5:15 pm on a xxmaj monday . xxmaj no waiting at all , just able to go right in . \\r \\n \\r \\n  xxmaj seats were comfortable , area was easy to maneuver around and find what i wanted . \\r \\n \\r \\n  xxmaj seafood was fantastic , and mostly what i focused on for my meal . xxmaj</td>\n",
       "    </tr>\n",
       "  </tbody>\n",
       "</table>"
      ],
      "text/plain": [
       "<IPython.core.display.HTML object>"
      ]
     },
     "metadata": {
      "tags": []
     },
     "output_type": "display_data"
    }
   ],
   "source": [
    "data = (TextList.from_df(train, cols='text')\n",
    "                .split_by_rand_pct(0.2)\n",
    "                .label_for_lm()  \n",
    "                .databunch(bs=48))\n",
    "data.show_batch()"
   ]
  },
  {
   "cell_type": "markdown",
   "metadata": {
    "colab_type": "text",
    "id": "LVzH3w8Zv28G"
   },
   "source": [
    "### Fit the deep learning model with domain specific data\n",
    "First we will fit our model with train data without target values so that our model knows better about our data."
   ]
  },
  {
   "cell_type": "code",
   "execution_count": 8,
   "metadata": {
    "colab": {
     "base_uri": "https://localhost:8080/",
     "height": 653
    },
    "colab_type": "code",
    "id": "YrT1gSbwOcrv",
    "outputId": "edd77eda-9ab0-4458-8f7f-d81122035398"
   },
   "outputs": [
    {
     "data": {
      "text/html": [],
      "text/plain": [
       "<IPython.core.display.HTML object>"
      ]
     },
     "metadata": {
      "tags": []
     },
     "output_type": "display_data"
    },
    {
     "name": "stdout",
     "output_type": "stream",
     "text": [
      "LR Finder is complete, type {learner_name}.recorder.plot() to see the graph.\n"
     ]
    },
    {
     "data": {
      "text/html": [
       "<table border=\"1\" class=\"dataframe\">\n",
       "  <thead>\n",
       "    <tr style=\"text-align: left;\">\n",
       "      <th>epoch</th>\n",
       "      <th>train_loss</th>\n",
       "      <th>valid_loss</th>\n",
       "      <th>accuracy</th>\n",
       "      <th>time</th>\n",
       "    </tr>\n",
       "  </thead>\n",
       "  <tbody>\n",
       "    <tr>\n",
       "      <td>0</td>\n",
       "      <td>4.031153</td>\n",
       "      <td>3.917310</td>\n",
       "      <td>0.274855</td>\n",
       "      <td>10:05</td>\n",
       "    </tr>\n",
       "    <tr>\n",
       "      <td>1</td>\n",
       "      <td>4.003060</td>\n",
       "      <td>3.896548</td>\n",
       "      <td>0.276950</td>\n",
       "      <td>10:06</td>\n",
       "    </tr>\n",
       "    <tr>\n",
       "      <td>2</td>\n",
       "      <td>3.866252</td>\n",
       "      <td>3.843400</td>\n",
       "      <td>0.282339</td>\n",
       "      <td>10:06</td>\n",
       "    </tr>\n",
       "    <tr>\n",
       "      <td>3</td>\n",
       "      <td>3.725043</td>\n",
       "      <td>3.796235</td>\n",
       "      <td>0.286798</td>\n",
       "      <td>10:06</td>\n",
       "    </tr>\n",
       "    <tr>\n",
       "      <td>4</td>\n",
       "      <td>3.608708</td>\n",
       "      <td>3.786270</td>\n",
       "      <td>0.288169</td>\n",
       "      <td>10:07</td>\n",
       "    </tr>\n",
       "  </tbody>\n",
       "</table>"
      ],
      "text/plain": [
       "<IPython.core.display.HTML object>"
      ]
     },
     "metadata": {
      "tags": []
     },
     "output_type": "display_data"
    },
    {
     "data": {
      "text/html": [
       "<table border=\"1\" class=\"dataframe\">\n",
       "  <thead>\n",
       "    <tr style=\"text-align: left;\">\n",
       "      <th>epoch</th>\n",
       "      <th>train_loss</th>\n",
       "      <th>valid_loss</th>\n",
       "      <th>accuracy</th>\n",
       "      <th>time</th>\n",
       "    </tr>\n",
       "  </thead>\n",
       "  <tbody>\n",
       "    <tr>\n",
       "      <td>0</td>\n",
       "      <td>3.504121</td>\n",
       "      <td>3.687009</td>\n",
       "      <td>0.299884</td>\n",
       "      <td>11:52</td>\n",
       "    </tr>\n",
       "    <tr>\n",
       "      <td>1</td>\n",
       "      <td>3.463949</td>\n",
       "      <td>3.618218</td>\n",
       "      <td>0.308244</td>\n",
       "      <td>11:54</td>\n",
       "    </tr>\n",
       "    <tr>\n",
       "      <td>2</td>\n",
       "      <td>3.309155</td>\n",
       "      <td>3.587775</td>\n",
       "      <td>0.313342</td>\n",
       "      <td>11:54</td>\n",
       "    </tr>\n",
       "    <tr>\n",
       "      <td>3</td>\n",
       "      <td>3.124125</td>\n",
       "      <td>3.593755</td>\n",
       "      <td>0.315194</td>\n",
       "      <td>11:54</td>\n",
       "    </tr>\n",
       "    <tr>\n",
       "      <td>4</td>\n",
       "      <td>2.995614</td>\n",
       "      <td>3.616450</td>\n",
       "      <td>0.313969</td>\n",
       "      <td>11:53</td>\n",
       "    </tr>\n",
       "  </tbody>\n",
       "</table>"
      ],
      "text/plain": [
       "<IPython.core.display.HTML object>"
      ]
     },
     "metadata": {
      "tags": []
     },
     "output_type": "display_data"
    },
    {
     "data": {
      "image/png": "[encoded data removed]",
      "text/plain": [
       "<Figure size 432x288 with 1 Axes>"
      ]
     },
     "metadata": {
      "tags": []
     },
     "output_type": "display_data"
    }
   ],
   "source": [
    "learn = language_model_learner(data,AWD_LSTM, drop_mult=0.3)\n",
    "\n",
    "# select the appropriate learning rate\n",
    "learn.lr_find()\n",
    "\n",
    "# we typically find the point where the slope is steepest\n",
    "learn.recorder.plot()\n",
    "\n",
    "# Fit the model based on selected learning rate\n",
    "learn.fit_one_cycle(5, 1e-2, moms=(0.8,0.7))\n",
    "# Tune a little more\n",
    "learn.unfreeze()\n",
    "learn.fit_one_cycle(5, 1e-3, moms=(0.8,0.7))\n",
    "\n",
    "# Save the encoder for use in classification\n",
    "learn.save_encoder('fine_tuned_enc')"
   ]
  },
  {
   "cell_type": "markdown",
   "metadata": {
    "colab_type": "text",
    "id": "G47l2YKVOoUI"
   },
   "source": [
    "### Re-fit model with classification label\n",
    "Here we will re-fit our model with our target values and tuned our model for better accuracy result."
   ]
  },
  {
   "cell_type": "code",
   "execution_count": 9,
   "metadata": {
    "colab": {
     "base_uri": "https://localhost:8080/",
     "height": 330
    },
    "colab_type": "code",
    "id": "IInO4vEmvkHh",
    "outputId": "7376dad8-a33b-4558-d478-01555bbba44b"
   },
   "outputs": [
    {
     "data": {
      "text/html": [
       "<table border=\"1\" class=\"dataframe\">\n",
       "  <thead>\n",
       "    <tr style=\"text-align: right;\">\n",
       "      <th>text</th>\n",
       "      <th>target</th>\n",
       "    </tr>\n",
       "  </thead>\n",
       "  <tbody>\n",
       "    <tr>\n",
       "      <td>xxbos i am not a xxunk reviewer , in fact , i rarely do so . xxmaj however , the xxup second of two bad experiences really motivated me to do so due to the sheer arrogance of nonetheless - the owner ! xxmaj yes - the owner ! ! \\r \\n \\r \\n  xxmaj first xxmaj negative xxmaj experience : xxmaj went on a xxmaj sunday with my</td>\n",
       "      <td>1</td>\n",
       "    </tr>\n",
       "    <tr>\n",
       "      <td>xxbos xxup update : xxmaj the only thing that the owner has right on his comment is that i assured him i 'd do whatever i could to let xxmaj pittsburgh know what type of business he is running . xxmaj he specifically said that \" i 'm not the first &amp; certainly not the last \" &amp; that he 'd love the \" free publicity \" so i made</td>\n",
       "      <td>1</td>\n",
       "    </tr>\n",
       "    <tr>\n",
       "      <td>xxbos xxmaj this was a super tough pill to swallow , i fully intended to dig my heels in here and let my 2 - 3 star reviews stand following a former uber negative customer experience 4 years ago , but in the world of second chances xxmaj islington xxmaj chrysler xxup fiat rose to the occasion this week and really redeemed themselves . \\r \\n \\r \\n  i</td>\n",
       "      <td>4</td>\n",
       "    </tr>\n",
       "    <tr>\n",
       "      <td>xxbos xxmaj the xxmaj palisades was my first apartment moving out of my parents house . xxmaj my roommate and i both worked right across the street at a restaurant near the mall , so the 2 minute drive , literally , was the only good thing about this place . xxmaj that being said : \\r \\n \\r \\n  xxmaj our unit , that was supposedly almost 1,000</td>\n",
       "      <td>1</td>\n",
       "    </tr>\n",
       "    <tr>\n",
       "      <td>xxbos i booked this xxmaj hotel through xxmaj orbitz due to needing a last minute room for a business weekend . i wanted to save but also wanted something comfortable and safe . xxmaj when i checked in , i was told that i would receive a non - smoking room . i had three suitcases from just flying in from xxup las and i had to drag my bags</td>\n",
       "      <td>1</td>\n",
       "    </tr>\n",
       "  </tbody>\n",
       "</table>"
      ],
      "text/plain": [
       "<IPython.core.display.HTML object>"
      ]
     },
     "metadata": {
      "tags": []
     },
     "output_type": "display_data"
    }
   ],
   "source": [
    "test_datalist = TextList.from_df(test, cols='text', vocab=data.vocab)\n",
    "\n",
    "data_clas = (TextList.from_df(train, cols='text', vocab=data.vocab)\n",
    "             .split_by_rand_pct(0.2)\n",
    "             .label_from_df(cols= 'label')\n",
    "             .add_test(test_datalist)\n",
    "             .databunch(bs=32))\n",
    "\n",
    "data_clas.show_batch()"
   ]
  },
  {
   "cell_type": "markdown",
   "metadata": {
    "colab_type": "text",
    "id": "yJ0CDEwQO7j-"
   },
   "source": [
    "Now let’s predict the target values and compare with original target values."
   ]
  },
  {
   "cell_type": "code",
   "execution_count": 10,
   "metadata": {
    "colab": {
     "base_uri": "https://localhost:8080/",
     "height": 1000
    },
    "colab_type": "code",
    "id": "IMd-cCmSvkHj",
    "outputId": "c67860ab-ba38-42a0-897e-186e7e9cbdf1"
   },
   "outputs": [
    {
     "data": {
      "text/html": [],
      "text/plain": [
       "<IPython.core.display.HTML object>"
      ]
     },
     "metadata": {
      "tags": []
     },
     "output_type": "display_data"
    },
    {
     "name": "stdout",
     "output_type": "stream",
     "text": [
      "LR Finder is complete, type {learner_name}.recorder.plot() to see the graph.\n"
     ]
    },
    {
     "data": {
      "text/html": [
       "<table border=\"1\" class=\"dataframe\">\n",
       "  <thead>\n",
       "    <tr style=\"text-align: left;\">\n",
       "      <th>epoch</th>\n",
       "      <th>train_loss</th>\n",
       "      <th>valid_loss</th>\n",
       "      <th>accuracy</th>\n",
       "      <th>time</th>\n",
       "    </tr>\n",
       "  </thead>\n",
       "  <tbody>\n",
       "    <tr>\n",
       "      <td>0</td>\n",
       "      <td>1.092019</td>\n",
       "      <td>0.961733</td>\n",
       "      <td>0.568533</td>\n",
       "      <td>05:30</td>\n",
       "    </tr>\n",
       "    <tr>\n",
       "      <td>1</td>\n",
       "      <td>1.093169</td>\n",
       "      <td>0.950080</td>\n",
       "      <td>0.582267</td>\n",
       "      <td>06:27</td>\n",
       "    </tr>\n",
       "    <tr>\n",
       "      <td>2</td>\n",
       "      <td>1.044611</td>\n",
       "      <td>0.921719</td>\n",
       "      <td>0.593467</td>\n",
       "      <td>05:40</td>\n",
       "    </tr>\n",
       "    <tr>\n",
       "      <td>3</td>\n",
       "      <td>1.031445</td>\n",
       "      <td>0.901005</td>\n",
       "      <td>0.604000</td>\n",
       "      <td>06:32</td>\n",
       "    </tr>\n",
       "    <tr>\n",
       "      <td>4</td>\n",
       "      <td>1.035003</td>\n",
       "      <td>0.895647</td>\n",
       "      <td>0.607067</td>\n",
       "      <td>05:27</td>\n",
       "    </tr>\n",
       "  </tbody>\n",
       "</table>"
      ],
      "text/plain": [
       "<IPython.core.display.HTML object>"
      ]
     },
     "metadata": {
      "tags": []
     },
     "output_type": "display_data"
    },
    {
     "data": {
      "text/html": [
       "<table border=\"1\" class=\"dataframe\">\n",
       "  <thead>\n",
       "    <tr style=\"text-align: left;\">\n",
       "      <th>epoch</th>\n",
       "      <th>train_loss</th>\n",
       "      <th>valid_loss</th>\n",
       "      <th>accuracy</th>\n",
       "      <th>time</th>\n",
       "    </tr>\n",
       "  </thead>\n",
       "  <tbody>\n",
       "    <tr>\n",
       "      <td>0</td>\n",
       "      <td>1.027489</td>\n",
       "      <td>0.894694</td>\n",
       "      <td>0.607733</td>\n",
       "      <td>06:58</td>\n",
       "    </tr>\n",
       "    <tr>\n",
       "      <td>1</td>\n",
       "      <td>0.949160</td>\n",
       "      <td>0.861698</td>\n",
       "      <td>0.628000</td>\n",
       "      <td>07:20</td>\n",
       "    </tr>\n",
       "    <tr>\n",
       "      <td>2</td>\n",
       "      <td>0.883429</td>\n",
       "      <td>0.846856</td>\n",
       "      <td>0.634800</td>\n",
       "      <td>07:13</td>\n",
       "    </tr>\n",
       "    <tr>\n",
       "      <td>3</td>\n",
       "      <td>0.823417</td>\n",
       "      <td>0.812630</td>\n",
       "      <td>0.656267</td>\n",
       "      <td>06:06</td>\n",
       "    </tr>\n",
       "    <tr>\n",
       "      <td>4</td>\n",
       "      <td>0.773115</td>\n",
       "      <td>0.833887</td>\n",
       "      <td>0.651333</td>\n",
       "      <td>06:30</td>\n",
       "    </tr>\n",
       "  </tbody>\n",
       "</table>"
      ],
      "text/plain": [
       "<IPython.core.display.HTML object>"
      ]
     },
     "metadata": {
      "tags": []
     },
     "output_type": "display_data"
    },
    {
     "data": {
      "text/html": [
       "<table border=\"1\" class=\"dataframe\">\n",
       "  <thead>\n",
       "    <tr style=\"text-align: left;\">\n",
       "      <th>epoch</th>\n",
       "      <th>train_loss</th>\n",
       "      <th>valid_loss</th>\n",
       "      <th>accuracy</th>\n",
       "      <th>time</th>\n",
       "    </tr>\n",
       "  </thead>\n",
       "  <tbody>\n",
       "    <tr>\n",
       "      <td>0</td>\n",
       "      <td>0.760222</td>\n",
       "      <td>0.845637</td>\n",
       "      <td>0.640000</td>\n",
       "      <td>10:17</td>\n",
       "    </tr>\n",
       "    <tr>\n",
       "      <td>1</td>\n",
       "      <td>0.777522</td>\n",
       "      <td>0.813919</td>\n",
       "      <td>0.649600</td>\n",
       "      <td>09:14</td>\n",
       "    </tr>\n",
       "    <tr>\n",
       "      <td>2</td>\n",
       "      <td>0.679122</td>\n",
       "      <td>0.839180</td>\n",
       "      <td>0.656000</td>\n",
       "      <td>10:35</td>\n",
       "    </tr>\n",
       "    <tr>\n",
       "      <td>3</td>\n",
       "      <td>0.545775</td>\n",
       "      <td>0.876894</td>\n",
       "      <td>0.644133</td>\n",
       "      <td>11:52</td>\n",
       "    </tr>\n",
       "    <tr>\n",
       "      <td>4</td>\n",
       "      <td>0.464082</td>\n",
       "      <td>0.918403</td>\n",
       "      <td>0.642533</td>\n",
       "      <td>11:39</td>\n",
       "    </tr>\n",
       "  </tbody>\n",
       "</table>"
      ],
      "text/plain": [
       "<IPython.core.display.HTML object>"
      ]
     },
     "metadata": {
      "tags": []
     },
     "output_type": "display_data"
    },
    {
     "data": {
      "text/html": [
       "<table border=\"1\" class=\"dataframe\">\n",
       "  <thead>\n",
       "    <tr style=\"text-align: right;\">\n",
       "      <th>text</th>\n",
       "      <th>target</th>\n",
       "      <th>prediction</th>\n",
       "    </tr>\n",
       "  </thead>\n",
       "  <tbody>\n",
       "    <tr>\n",
       "      <td>xxbos xxmaj okay , stayed here xxmaj mon . , xxmaj oct. 21st - xxmaj fri . , xxmaj oct. 25th . xxup omg ! xxmaj what a nightmare ! i will never stay here until renovations are done . xxmaj there is two major pros ... price ( it 's so cheap ! ) and location , location , location . xxmaj seriously , you 're dab smack in</td>\n",
       "      <td>1</td>\n",
       "      <td>2</td>\n",
       "    </tr>\n",
       "    <tr>\n",
       "      <td>xxbos i was n't expecting much when i flew xxmaj allegiant xxmaj air , but they failed to live up to even those low expectations . xxmaj considering the dirt - cheap xxunk , i was n't exactly expecting a first class experience . i did , however , expect a less than miserable experience . xxmaj with little exception , xxmaj allegiant was miserable from beginning to end .</td>\n",
       "      <td>1</td>\n",
       "      <td>1</td>\n",
       "    </tr>\n",
       "    <tr>\n",
       "      <td>xxbos xxup cj , a manager , had contacted me and asked me to call him about my experiences . xxmaj we chatted and i said i would give them another try . \\r \\n \\r \\n  xxmaj amy recognized me ( good or bad , i was impressed ) and made no bones about apologizing for that first night and expressing her hope that this time would be</td>\n",
       "      <td>2</td>\n",
       "      <td>3</td>\n",
       "    </tr>\n",
       "    <tr>\n",
       "      <td>xxbos xxmaj in our continuing quest to identify cool , locally owned places to eat and / or drink , xxmaj caroline and i xxunk xxmaj vintage 95 last night . \\r \\n \\r \\n  xxmaj before i go further , understand that whenever i go out for eats or drinks , i have in mind a xxmaj platonic xxmaj ideal of the xxmaj bar / xxmaj pub /</td>\n",
       "      <td>4</td>\n",
       "      <td>4</td>\n",
       "    </tr>\n",
       "    <tr>\n",
       "      <td>xxbos xxmaj after seeing these negative reviews splurged all over this page like a raw sewage leak , i figured we 'd pour a little more gas on the fire . i mean it really is just one after another and i can attest every nightmare on this page is the real deal xxmaj xxunk ladies and gents . xxmaj let me throw a few numbers out here : \\r</td>\n",
       "      <td>1</td>\n",
       "      <td>5</td>\n",
       "    </tr>\n",
       "  </tbody>\n",
       "</table>"
      ],
      "text/plain": [
       "<IPython.core.display.HTML object>"
      ]
     },
     "metadata": {
      "tags": []
     },
     "output_type": "display_data"
    },
    {
     "data": {
      "image/png": "[encoded data removed]",
      "text/plain": [
       "<Figure size 432x288 with 1 Axes>"
      ]
     },
     "metadata": {
      "tags": []
     },
     "output_type": "display_data"
    }
   ],
   "source": [
    "learn_classifier = text_classifier_learner(data_clas, AWD_LSTM, drop_mult=0.5)\n",
    "\n",
    "# load the encoder saved  \n",
    "learn_classifier.load_encoder('fine_tuned_enc')\n",
    "\n",
    "learn_classifier.freeze()\n",
    "\n",
    "# select the appropriate learning rate\n",
    "learn_classifier.lr_find()\n",
    "\n",
    "# we typically find the point where the slope is steepest\n",
    "learn_classifier.recorder.plot()\n",
    "\n",
    "# Fit the model based on selected learning rate\n",
    "learn_classifier.fit_one_cycle(5, 2e-2, moms=(0.8,0.7))\n",
    "\n",
    "# Tune a little more\n",
    "learn_classifier.freeze_to(-2)\n",
    "learn_classifier.fit_one_cycle(5, slice(1e-2/(2.6**4),1e-2), moms=(0.8,0.7))\n",
    "\n",
    "# Tune a little more\n",
    "learn_classifier.freeze_to(-3)\n",
    "learn_classifier.fit_one_cycle(5, slice(5e-3/(2.6**4),5e-3), moms=(0.8,0.7))\n",
    "\n",
    "learn_classifier.show_results()"
   ]
  },
  {
   "cell_type": "markdown",
   "metadata": {
    "colab_type": "text",
    "id": "dePNsU_6PBRx"
   },
   "source": [
    "Here we can see that in the final round it is showing accuracy around 65%"
   ]
  },
  {
   "cell_type": "markdown",
   "metadata": {
    "colab_type": "text",
    "id": "QbxENLUAP7UQ"
   },
   "source": [
    "### Saving the model using joblib"
   ]
  },
  {
   "cell_type": "code",
   "execution_count": 0,
   "metadata": {
    "colab": {
     "base_uri": "https://localhost:8080/",
     "height": 34
    },
    "colab_type": "code",
    "id": "6UeRM-BNPUPy",
    "outputId": "d5ad58ff-2fec-4486-ff6f-a59c9683151a"
   },
   "outputs": [
    {
     "data": {
      "text/plain": [
       "['fastAIModel.sav']"
      ]
     },
     "execution_count": 54,
     "metadata": {
      "tags": []
     },
     "output_type": "execute_result"
    }
   ],
   "source": [
    "filename = 'fastAIModel.sav'\n",
    "joblib.dump(learn_classifier, filename)\n"
   ]
  },
  {
   "cell_type": "markdown",
   "metadata": {
    "colab_type": "text",
    "id": "2Lgm9aO9QDNw"
   },
   "source": [
    "### Pseudo labelling first 50K rows of unlabelled data\n",
    "loading the unlabelled data"
   ]
  },
  {
   "cell_type": "code",
   "execution_count": 0,
   "metadata": {
    "colab": {
     "base_uri": "https://localhost:8080/",
     "height": 195
    },
    "colab_type": "code",
    "id": "NpUnELbvPTb4",
    "outputId": "a4041739-9bf2-4d88-89ba-3b8b264c630a"
   },
   "outputs": [
    {
     "data": {
      "text/html": [
       "<div>\n",
       "<style scoped>\n",
       "    .dataframe tbody tr th:only-of-type {\n",
       "        vertical-align: middle;\n",
       "    }\n",
       "\n",
       "    .dataframe tbody tr th {\n",
       "        vertical-align: top;\n",
       "    }\n",
       "\n",
       "    .dataframe thead th {\n",
       "        text-align: right;\n",
       "    }\n",
       "</style>\n",
       "<table border=\"1\" class=\"dataframe\">\n",
       "  <thead>\n",
       "    <tr style=\"text-align: right;\">\n",
       "      <th></th>\n",
       "      <th>text</th>\n",
       "      <th>label</th>\n",
       "    </tr>\n",
       "  </thead>\n",
       "  <tbody>\n",
       "    <tr>\n",
       "      <th>0</th>\n",
       "      <td>Had a good experience when my wife and I sat a...</td>\n",
       "      <td>3</td>\n",
       "    </tr>\n",
       "    <tr>\n",
       "      <th>1</th>\n",
       "      <td>On my first to Montreal with my gf we came her...</td>\n",
       "      <td>3</td>\n",
       "    </tr>\n",
       "    <tr>\n",
       "      <th>2</th>\n",
       "      <td>One of our favorite places to go when it's col...</td>\n",
       "      <td>5</td>\n",
       "    </tr>\n",
       "    <tr>\n",
       "      <th>3</th>\n",
       "      <td>The doctor was very nice, got in in a good amo...</td>\n",
       "      <td>2</td>\n",
       "    </tr>\n",
       "    <tr>\n",
       "      <th>4</th>\n",
       "      <td>The Nook is an immediate phoenix staple!  I ca...</td>\n",
       "      <td>5</td>\n",
       "    </tr>\n",
       "  </tbody>\n",
       "</table>\n",
       "</div>"
      ],
      "text/plain": [
       "                                                text label\n",
       "0  Had a good experience when my wife and I sat a...     3\n",
       "1  On my first to Montreal with my gf we came her...     3\n",
       "2  One of our favorite places to go when it's col...     5\n",
       "3  The doctor was very nice, got in in a good amo...     2\n",
       "4  The Nook is an immediate phoenix staple!  I ca...     5"
      ]
     },
     "execution_count": 61,
     "metadata": {
      "tags": []
     },
     "output_type": "execute_result"
    }
   ],
   "source": [
    "unlabelled_data = pd.read_csv(\"unlabeled_data.csv\")\n",
    "unlabelled_data50 = unlabelled_data[:50000]"
   ]
  },
  {
   "cell_type": "markdown",
   "metadata": {
    "colab_type": "text",
    "id": "z_DwKk40QUsT"
   },
   "source": [
    " Filtering Predicted values for unlabelled_data50 into an array"
   ]
  },
  {
   "cell_type": "code",
   "execution_count": 0,
   "metadata": {
    "colab": {},
    "colab_type": "code",
    "id": "-qHBT_8Q2MwS"
   },
   "outputs": [],
   "source": [
    "#Predicting the values for each text and appending the result into an Array\n",
    "pred = []\n",
    "for value in unlabelled_data50['text']:\n",
    "  y = learn_classifier.predict(value)\n",
    "  pred.append(y)\n",
    "#extracting just the predicted values from teh resultset tupple\n",
    "temp = []\n",
    "for each in pred:\n",
    "  temp.append(each[0])"
   ]
  },
  {
   "cell_type": "markdown",
   "metadata": {
    "colab_type": "text",
    "id": "dWXW51vLQbq6"
   },
   "source": [
    "Appending that array into unlabelled_data50"
   ]
  },
  {
   "cell_type": "code",
   "execution_count": 0,
   "metadata": {
    "colab": {},
    "colab_type": "code",
    "id": "LpqAW1GxQtO9"
   },
   "outputs": [],
   "source": [
    "unlabelled_data50['label']=temp"
   ]
  },
  {
   "cell_type": "markdown",
   "metadata": {
    "colab_type": "text",
    "id": "_DzfnwKYQl0K"
   },
   "source": [
    "Writing the final result into a csv file "
   ]
  },
  {
   "cell_type": "code",
   "execution_count": 0,
   "metadata": {
    "colab": {},
    "colab_type": "code",
    "id": "rd9WpWGsQiZT"
   },
   "outputs": [],
   "source": [
    "test_data.to_csv(\"pseudo_labelled_50k.csv\")"
   ]
  }
 ],
 "metadata": {
  "accelerator": "GPU",
  "colab": {
   "collapsed_sections": [],
   "name": "FastAI.ipynb",
   "provenance": [],
   "toc_visible": true
  },
  "kernelspec": {
   "display_name": "Python 3",
   "language": "python",
   "name": "python3"
  },
  "language_info": {
   "codemirror_mode": {
    "name": "ipython",
    "version": 3
   },
   "file_extension": ".py",
   "mimetype": "text/x-python",
   "name": "python",
   "nbconvert_exporter": "python",
   "pygments_lexer": "ipython3",
   "version": "3.6.5"
  },
  "toc": {
   "base_numbering": 1,
   "nav_menu": {},
   "number_sections": true,
   "sideBar": true,
   "skip_h1_title": false,
   "title_cell": "Table of Contents",
   "title_sidebar": "Contents",
   "toc_cell": false,
   "toc_position": {},
   "toc_section_display": true,
   "toc_window_display": false
  }
 },
 "nbformat": 4,
 "nbformat_minor": 1
}
