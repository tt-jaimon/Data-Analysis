{
 "cells": [
  {
   "cell_type": "markdown",
   "metadata": {},
   "source": [
    "# Assignment 1\n",
    "Name: Jaimon Thypramabil Thomas\n",
    "<br>StudentID : 29566428"
   ]
  },
  {
   "cell_type": "markdown",
   "metadata": {},
   "source": [
    "### Question 4 [Bayes Rule, 20 Marks]\n",
    "#### Recall the simple example from Appendix A of Module 1. Suppose we have one red, one blue, and one yellow box. In the red box we have 3 apples and 5 oranges, in the blue box we have 4 apples and 4 orange, and in the yellow box we have 3 apples and 1 orange. Now suppose we randomly selected one of the boxes and picked a fruit. If the picked fruit is an apple, what is the probability that it was picked from the yellow box?\n",
    "#### Note that the chances of picking the red, blue, and yellow boxes are 50%, 30%, and 20% respectively and the selection chance for any of the pieces from a box is equal for all the pieces in that box. Please show your work in your PDF report.\n",
    "#### Hint: You can formulize this problem following the denotations in “Random Variable” paragraph in Appendix A of Module 1."
   ]
  },
  {
   "cell_type": "markdown",
   "metadata": {},
   "source": [
    "Let x denote the color of the box and y denote the fruit\n",
    "<br>Probability of selecting the red box = $P(x = red) = 0.5$\n",
    "<br>Probability of selecting the blue box = $P(x = blue) = .3$ \n",
    "<br>Probability of selecting the yellow box = $P(x = yellow) = 0.2$\n",
    "<br>Probability of selecting an apple from yellow box = $p(x = yellow, y=apple) = \\frac{3}{20}$\n",
    "<br>Probability of selecting an apple =$p(y = apple) = \\frac{10}{20}$\n",
    "<br> Probabilty of selecting an apple given that we are selecting it from yellow box =$p(x = yellow|y = apple)$\n",
    "<br>$p(x = yellow|y = apple) = \\frac{p(x = yellow, y=apple)}{p(y = apple)} = \\frac{3}{20}*{\\frac{20}{10}} = \\frac{3}{10} = 0.3$\n",
    "<br>Therefore the probability of fruit being picked from yellow box given that the picked fruit is apple is 0.3"
   ]
  },
  {
   "cell_type": "code",
   "execution_count": null,
   "metadata": {},
   "outputs": [],
   "source": []
  }
 ],
 "metadata": {
  "kernelspec": {
   "display_name": "R",
   "language": "R",
   "name": "ir"
  },
  "language_info": {
   "codemirror_mode": "r",
   "file_extension": ".r",
   "mimetype": "text/x-r-source",
   "name": "R",
   "pygments_lexer": "r",
   "version": "3.6.1"
  }
 },
 "nbformat": 4,
 "nbformat_minor": 2
}
