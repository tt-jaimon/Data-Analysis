{
 "cells": [
  {
   "cell_type": "markdown",
   "metadata": {},
   "source": [
    "# Assignment 1\n",
    "Name: Jaimon Thypramabil Thomas\n",
    "<br>StudentID : 29566428"
   ]
  },
  {
   "cell_type": "markdown",
   "metadata": {},
   "source": [
    "### Library Used"
   ]
  },
  {
   "cell_type": "code",
   "execution_count": 1,
   "metadata": {},
   "outputs": [
    {
     "name": "stderr",
     "output_type": "stream",
     "text": [
      "Warning message:\n",
      "\"package 'reshape2' was built under R version 3.6.3\"Warning message:\n",
      "\"package 'ggplot2' was built under R version 3.6.3\""
     ]
    }
   ],
   "source": [
    "library(reshape2) # used for melt function\n",
    "library(ggplot2) # used for generating plots"
   ]
  },
  {
   "cell_type": "markdown",
   "metadata": {},
   "source": [
    "## Section B. Prediction Uncertainty with Bootstrapping"
   ]
  },
  {
   "cell_type": "markdown",
   "metadata": {},
   "source": [
    "### Question 3 [Bootstrapping, 25 Marks]"
   ]
  },
  {
   "cell_type": "markdown",
   "metadata": {},
   "source": [
    "#### I. Modify the code in Activity 2 to handle bootstrapping for KNN regression."
   ]
  },
  {
   "cell_type": "code",
   "execution_count": 2,
   "metadata": {},
   "outputs": [],
   "source": [
    "#function used to calculate average of an array\n",
    "averageCalculator <- function(x) {\n",
    "    return(round((sum(x)/length(x)),2))\n",
    "}\n",
    "\n",
    "# KNN Regressor function returns predicted values based on manhattan distance\n",
    "knn.regressor <- function(train.data, train.label, test.data, K=3){\n",
    "    ## count number of train samples\n",
    "    train.len <- nrow(train.data)\n",
    "    \n",
    "    ## count number of test samples\n",
    "    test.len <- nrow(test.data)\n",
    "    \n",
    "    ## calculate distances between samples using manhattan\n",
    "    dist <- as.matrix(dist(rbind(test.data, train.data), method= 'manhattan'))[1:test.len, (test.len+1):(test.len+train.len)]\n",
    "    predict.label = rep(0,test.len)\n",
    "    ## for each test sample...\n",
    "    for (i in 1:test.len){\n",
    "        ### ...find its K nearest neighbours from training sampels...\n",
    "        if(test.len == 1){\n",
    "            #Extracting the top K value indexes based on sorted distances\n",
    "            nn <- as.data.frame(sort(dist, index.return = TRUE))[1:K,2]\n",
    "        }\n",
    "        else{\n",
    "            #Extracting the top K value indexes based on sorted distances\n",
    "            nn <- as.data.frame(sort(dist[i,], index.return = TRUE))[1:K,2]\n",
    "        }\n",
    "        ###... and calculate the predicted value according to the average value\n",
    "        predict.label[i]<- (averageCalculator(train.label[nn]))\n",
    "    }\n",
    "    ## return the class labels as output\n",
    "    return (predict.label)\n",
    "}"
   ]
  },
  {
   "cell_type": "code",
   "execution_count": 3,
   "metadata": {},
   "outputs": [],
   "source": [
    "# define a function that generates sample indixes based on bootstrap technique\n",
    "boot <- function (original.size=100, sample.size=original.size, times=100){\n",
    "    indx <- matrix(nrow=times, ncol=sample.size)\n",
    "    for (t in 1:times){\n",
    "        indx[t, ] <- sample(x=original.size, size=sample.size, replace = TRUE)\n",
    "    }\n",
    "    return(indx)\n",
    "}\n",
    "\n",
    "#function used to apply bootstraping technique on knn regressor\n",
    "knn.regressor.boot <-function(train.data,train.label,test.data,test.label,K = 1:15,sample.size=20,times = 50){\n",
    "    L <- times           # number of datasets\n",
    "    N <- sample.size    # size of datasets\n",
    "    # generate bootstrap indices:\n",
    "    # a dataframe to track the number of average error in each case\n",
    "    miss <- data.frame('K'=K, 'L'=1:L,'N'=N,'test'=rep(0,L*length(K)*length(N)))\n",
    "    \n",
    "    # THIS MAY TAKE A FEW MINUTES TO COMPLETE\n",
    "    ## for every k values:\n",
    "    i = 0\n",
    "    for (k in K){\n",
    "        for(n in N){\n",
    "            boot.indx <- boot(nrow(train.data), n, L)\n",
    "            for (l in 1:L){\n",
    "                i = i +1\n",
    "                #### calculate iteration index i\n",
    "\n",
    "                #### save sample indices that were selected by bootstrap\n",
    "                indx <- boot.indx[l,]\n",
    "\n",
    "                #### save the value of k and l\n",
    "                miss[i,'K'] <- k\n",
    "                miss[i,'L'] <- l\n",
    "                miss[i,'N'] <- n\n",
    "\n",
    "                #### calculate and record the test average error\n",
    "                miss[i,'test'] <- sum((knn.regressor(train.data[indx, ],train.label[indx], test.data, K=k) - test.label)**2)/length(test.label)\n",
    "            } \n",
    "        }        \n",
    "    }\n",
    "    return(miss)\n",
    "}"
   ]
  },
  {
   "cell_type": "markdown",
   "metadata": {},
   "source": [
    "#### II. Load Task1B_train.csv and Task1B_test.csv sets. Apply your bootstrapping for KNN regression with times = 50 (the number of subsets), size = 20 (the size of each subset), and change K=1,.., 15 (the neighbourhood size). Now create a boxplot where the x-axis is K, and the y-axis is the average error (and the uncertainty around it) corresponding to each K. Save the plot in your Jupyter Notebook file for Question 3.\n",
    "#### Hint: You can refer to the boxplot in Activity 2 of Module 1. But the error is measured in different ways compared with the KNN classifier."
   ]
  },
  {
   "cell_type": "markdown",
   "metadata": {},
   "source": [
    "#### Loading the data"
   ]
  },
  {
   "cell_type": "code",
   "execution_count": 4,
   "metadata": {},
   "outputs": [
    {
     "data": {
      "text/html": [
       "<table>\n",
       "<thead><tr><th scope=col>x1</th><th scope=col>x2</th><th scope=col>x3</th><th scope=col>x4</th><th scope=col>y</th></tr></thead>\n",
       "<tbody>\n",
       "\t<tr><td>1991.500</td><td>1613.63 </td><td>1688.5  </td><td>1750.5  </td><td>2460.2  </td></tr>\n",
       "\t<tr><td>1991.508</td><td>1621.04 </td><td>1684.1  </td><td>1708.1  </td><td>2470.4  </td></tr>\n",
       "\t<tr><td>1991.515</td><td>1610.61 </td><td>1671.6  </td><td>1714.3  </td><td>2466.8  </td></tr>\n",
       "\t<tr><td>1991.523</td><td>1640.17 </td><td>1703.6  </td><td>1757.4  </td><td>2508.4  </td></tr>\n",
       "\t<tr><td>1991.531</td><td>1645.89 </td><td>1716.3  </td><td>1754.3  </td><td>2497.4  </td></tr>\n",
       "\t<tr><td>1991.538</td><td>1638.35 </td><td>1730.5  </td><td>1755.5  </td><td>2556.8  </td></tr>\n",
       "</tbody>\n",
       "</table>\n"
      ],
      "text/latex": [
       "\\begin{tabular}{r|lllll}\n",
       " x1 & x2 & x3 & x4 & y\\\\\n",
       "\\hline\n",
       "\t 1991.500 & 1613.63  & 1688.5   & 1750.5   & 2460.2  \\\\\n",
       "\t 1991.508 & 1621.04  & 1684.1   & 1708.1   & 2470.4  \\\\\n",
       "\t 1991.515 & 1610.61  & 1671.6   & 1714.3   & 2466.8  \\\\\n",
       "\t 1991.523 & 1640.17  & 1703.6   & 1757.4   & 2508.4  \\\\\n",
       "\t 1991.531 & 1645.89  & 1716.3   & 1754.3   & 2497.4  \\\\\n",
       "\t 1991.538 & 1638.35  & 1730.5   & 1755.5   & 2556.8  \\\\\n",
       "\\end{tabular}\n"
      ],
      "text/markdown": [
       "\n",
       "| x1 | x2 | x3 | x4 | y |\n",
       "|---|---|---|---|---|\n",
       "| 1991.500 | 1613.63  | 1688.5   | 1750.5   | 2460.2   |\n",
       "| 1991.508 | 1621.04  | 1684.1   | 1708.1   | 2470.4   |\n",
       "| 1991.515 | 1610.61  | 1671.6   | 1714.3   | 2466.8   |\n",
       "| 1991.523 | 1640.17  | 1703.6   | 1757.4   | 2508.4   |\n",
       "| 1991.531 | 1645.89  | 1716.3   | 1754.3   | 2497.4   |\n",
       "| 1991.538 | 1638.35  | 1730.5   | 1755.5   | 2556.8   |\n",
       "\n"
      ],
      "text/plain": [
       "  x1       x2      x3     x4     y     \n",
       "1 1991.500 1613.63 1688.5 1750.5 2460.2\n",
       "2 1991.508 1621.04 1684.1 1708.1 2470.4\n",
       "3 1991.515 1610.61 1671.6 1714.3 2466.8\n",
       "4 1991.523 1640.17 1703.6 1757.4 2508.4\n",
       "5 1991.531 1645.89 1716.3 1754.3 2497.4\n",
       "6 1991.538 1638.35 1730.5 1755.5 2556.8"
      ]
     },
     "metadata": {},
     "output_type": "display_data"
    }
   ],
   "source": [
    "#Reading data from csv\n",
    "task1B_train <- read.csv(\"Task1B_train.csv\")\n",
    "task1B_test <- read.csv(\"Task1B_test.csv\")\n",
    "head(task1B_test)"
   ]
  },
  {
   "cell_type": "code",
   "execution_count": 5,
   "metadata": {},
   "outputs": [],
   "source": [
    "trainB.data <- task1B_train[, -5]\n",
    "trainB.label <- task1B_train[, 5]\n",
    "testB.data <- task1B_test[, -5]\n",
    "testB.label <- task1B_test[, 5]"
   ]
  },
  {
   "cell_type": "code",
   "execution_count": 6,
   "metadata": {
    "scrolled": false
   },
   "outputs": [],
   "source": [
    "# set random seed\n",
    "set.seed(1234)\n",
    "miss.B <- knn.regressor.boot(trainB.data,trainB.label,testB.data,testB.label,K = 1:15,sample.size=20,times = 50)"
   ]
  },
  {
   "cell_type": "code",
   "execution_count": 7,
   "metadata": {},
   "outputs": [
    {
     "data": {
      "image/png": "[encoded data removed]",
      "text/plain": [
       "plot without title"
      ]
     },
     "metadata": {},
     "output_type": "display_data"
    }
   ],
   "source": [
    "# plot Average Sum of Errors vs. K (Box Plot)\n",
    "miss.B.m <- melt(miss.B, id=c('K', 'L','N')) # reshape for visualization\n",
    "names(miss.B.m) <- c('K', 'L','N', 'type', 'average.error')\n",
    "ggplot(data=miss.B.m[miss.B.m$type=='test',], aes(factor(K), average.error,fill=type)) + geom_boxplot(outlier.shape = NA)  + \n",
    "    scale_color_discrete(guide = guide_legend(title = NULL)) + \n",
    "labs( title= \"Average Sum of square Errors vs. K (Box Plot)\", y=\" Average Sum of square error\",\n",
    "           x = \"K\")  + theme_minimal()\n",
    "# ignore the warnings (because of ignoring outliers)\n",
    "options(warn=-1)"
   ]
  },
  {
   "cell_type": "markdown",
   "metadata": {},
   "source": [
    "#### III. Based on the plot in the previous part (Part П), how does the test error and its uncertainty behave as K increases? Explain in your Jupyter Notebook file."
   ]
  },
  {
   "cell_type": "markdown",
   "metadata": {},
   "source": [
    "Here from the above plot we can see that generally as K increases test error increases. We can also see that there is no particular pattern regadring uncertainity for different values of K"
   ]
  },
  {
   "cell_type": "markdown",
   "metadata": {},
   "source": [
    "#### IV. Load Task1B_train.csv and Task1B_test.csv sets. Apply your bootstrapping for KNN regression with K= 5(the neighbourhood size), times = 50 (the number of subsets), and change sizes = 5, 10, 15,..., 75 (the size of each subset). Now create a boxplot where the x-axis is ‘sizes’ and the y-axis is the average error (and the uncertainty around it) corresponding to each value of ‘times’. Save the plot in your Jupyter Notebook file for Question 3."
   ]
  },
  {
   "cell_type": "code",
   "execution_count": 8,
   "metadata": {},
   "outputs": [],
   "source": [
    "#function used to generate a series of no between start and end increased by a factor\n",
    "getseries <-function(start,end,factor){\n",
    "    temp = 0\n",
    "    i=start\n",
    "    while(i<=end){\n",
    "        if(i==start) { temp = start }\n",
    "        else { temp = c(temp,i) }\n",
    "        i =i+factor\n",
    "    } \n",
    "    return(temp)\n",
    "}"
   ]
  },
  {
   "cell_type": "code",
   "execution_count": 9,
   "metadata": {},
   "outputs": [],
   "source": [
    "# set random seed\n",
    "set.seed(1234)\n",
    "miss.B.size <- knn.regressor.boot(trainB.data,trainB.label,testB.data,testB.label,K = 5,\n",
    "                                  sample.size=getseries(5,75,5),times = 50)"
   ]
  },
  {
   "cell_type": "code",
   "execution_count": 10,
   "metadata": {},
   "outputs": [
    {
     "data": {
      "image/png": "[encoded data removed]",
      "text/plain": [
       "plot without title"
      ]
     },
     "metadata": {},
     "output_type": "display_data"
    }
   ],
   "source": [
    "# plot Average Sum of Errors vs. Subset size (Box Plot)\n",
    "miss.B.size.m <- melt(miss.B.size, id=c('K', 'L','N')) # reshape for visualization\n",
    "names(miss.B.size.m) <- c('K', 'L','N', 'type', 'average.error')\n",
    "ggplot(data=miss.B.size.m[miss.B.size.m$type=='test',], aes(factor(N), average.error,fill=type)) + geom_boxplot(outlier.shape = NA)  + \n",
    "    scale_color_discrete(guide = guide_legend(title = NULL)) + \n",
    "labs( title= \"Average Sum of Errors vs. Subset size (Box Plot)\", y=\" Average Sum of square error\",\n",
    "           x = \"Subset size\") + theme_minimal()\n",
    "# ignore the warnings (because of ignoring outliers)\n",
    "options(warn=-1)"
   ]
  },
  {
   "cell_type": "markdown",
   "metadata": {},
   "source": [
    "#### V. Based on the plot in the previous part (Part IV), how does the test error and its uncertainty behave as the size of each subset in bootstrapping increases? Explain in your Jupyter Notebook file."
   ]
  },
  {
   "cell_type": "markdown",
   "metadata": {},
   "source": [
    "From the above plot we can see that as the size of each subset in bootstrapping increases we can see that the average error and its uncertainity decreasing"
   ]
  }
 ],
 "metadata": {
  "kernelspec": {
   "display_name": "R",
   "language": "R",
   "name": "ir"
  },
  "language_info": {
   "codemirror_mode": "r",
   "file_extension": ".r",
   "mimetype": "text/x-r-source",
   "name": "R",
   "pygments_lexer": "r",
   "version": "3.6.1"
  }
 },
 "nbformat": 4,
 "nbformat_minor": 2
}
