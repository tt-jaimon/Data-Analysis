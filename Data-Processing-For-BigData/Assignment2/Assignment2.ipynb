{
 "cells": [
  {
   "cell_type": "markdown",
   "metadata": {},
   "source": [
    "# Assignment 2"
   ]
  },
  {
   "cell_type": "markdown",
   "metadata": {},
   "source": [
    "### Name: Jaimon Thyparambil Thomas\n",
    "### Student ID: 29566428\n",
    "### Email ID: jthy0001@student.monash.edu"
   ]
  },
  {
   "cell_type": "markdown",
   "metadata": {},
   "source": [
    "### Importing necessary Libraries"
   ]
  },
  {
   "cell_type": "code",
   "execution_count": 1,
   "metadata": {},
   "outputs": [],
   "source": [
    "from pyspark.sql.functions import when,desc\n",
    "from pyspark.ml.feature import OneHotEncoderEstimator, StringIndexer, VectorAssembler\n",
    "from pyspark.ml import Pipeline\n",
    "from pyspark.ml.classification import RandomForestClassifier,DecisionTreeClassifier,LogisticRegression\n",
    "from pyspark.ml.classification import GBTClassifier\n",
    "from pyspark.ml.evaluation import BinaryClassificationEvaluator,MulticlassClassificationEvaluator\n",
    "from pyspark.ml.tuning import ParamGridBuilder, CrossValidator\n",
    "from pyspark.mllib.evaluation import MulticlassMetrics #For caluculating confusion Metrics\n",
    "import matplotlib.pyplot as plt # For Drawing plots"
   ]
  },
  {
   "cell_type": "markdown",
   "metadata": {},
   "source": [
    "### Step 01: Import Spark Session and initialize Spark"
   ]
  },
  {
   "cell_type": "code",
   "execution_count": 2,
   "metadata": {},
   "outputs": [],
   "source": [
    "# create entry points to spark\n",
    "from pyspark import SparkContext # Spark\n",
    "from pyspark.sql import SparkSession # Spark SQL\n",
    "\n",
    "# We add this line to avoid an error : \"Cannot run multiple SparkContexts at once\". \n",
    "# If there is an existing spark context, we will reuse it instead of creating a new context.\n",
    "sc = SparkContext.getOrCreate()\n",
    "\n",
    "# local[*]: run Spark locally with as many working processors as logical cores on your machine.\n",
    "# In the field of `master`, we use a local server with as many working processors (or threads) as possible (i.e. `local[*]`). \n",
    "# If we want Spark to run locally with 'k' worker threads, we can specify as `local[k]`.\n",
    "# The `appName` field is a name to be shown on the Sparking cluster UI. \n",
    "\n",
    "# If there is no existing spark context, we now create a new context\n",
    "if (sc is None):\n",
    "    sc = SparkContext(master=\"local[4]\", appName=\"rain predictor\")\n",
    "spark = SparkSession(sparkContext=sc)"
   ]
  },
  {
   "cell_type": "markdown",
   "metadata": {},
   "source": [
    "### Step 02: Load the dataset and print the schema and total number of entries"
   ]
  },
  {
   "cell_type": "code",
   "execution_count": 3,
   "metadata": {},
   "outputs": [
    {
     "name": "stdout",
     "output_type": "stream",
     "text": [
      "Total no of records in the dataFrame are 142193\n"
     ]
    }
   ],
   "source": [
    "# Load csv file using Spark csv package\n",
    "data = spark.read.csv('weatherAUS.csv', header=True, inferSchema=True)\n",
    "print(\"Total no of records in the dataFrame are\",data.count())"
   ]
  },
  {
   "cell_type": "code",
   "execution_count": 4,
   "metadata": {},
   "outputs": [
    {
     "name": "stdout",
     "output_type": "stream",
     "text": [
      "+-------------------+--------+-------+-------+--------+-----------+--------+-----------+-------------+----------+----------+------------+------------+-----------+-----------+-----------+-----------+--------+--------+-------+-------+---------+------------+\n",
      "|Date               |Location|MinTemp|MaxTemp|Rainfall|Evaporation|Sunshine|WindGustDir|WindGustSpeed|WindDir9am|WindDir3pm|WindSpeed9am|WindSpeed3pm|Humidity9am|Humidity3pm|Pressure9am|Pressure3pm|Cloud9am|Cloud3pm|Temp9am|Temp3pm|RainToday|RainTomorrow|\n",
      "+-------------------+--------+-------+-------+--------+-----------+--------+-----------+-------------+----------+----------+------------+------------+-----------+-----------+-----------+-----------+--------+--------+-------+-------+---------+------------+\n",
      "|2008-12-01 00:00:00|Albury  |13.4   |22.9   |0.6     |NA         |NA      |W          |44           |W         |WNW       |20          |24          |71         |22         |1007.7     |1007.1     |8       |NA      |16.9   |21.8   |No       |No          |\n",
      "|2008-12-02 00:00:00|Albury  |7.4    |25.1   |0       |NA         |NA      |WNW        |44           |NNW       |WSW       |4           |22          |44         |25         |1010.6     |1007.8     |NA      |NA      |17.2   |24.3   |No       |No          |\n",
      "|2008-12-03 00:00:00|Albury  |12.9   |25.7   |0       |NA         |NA      |WSW        |46           |W         |WSW       |19          |26          |38         |30         |1007.6     |1008.7     |NA      |2       |21     |23.2   |No       |No          |\n",
      "|2008-12-04 00:00:00|Albury  |9.2    |28     |0       |NA         |NA      |NE         |24           |SE        |E         |11          |9           |45         |16         |1017.6     |1012.8     |NA      |NA      |18.1   |26.5   |No       |No          |\n",
      "|2008-12-05 00:00:00|Albury  |17.5   |32.3   |1       |NA         |NA      |W          |41           |ENE       |NW        |7           |20          |82         |33         |1010.8     |1006       |7       |8       |17.8   |29.7   |No       |No          |\n",
      "|2008-12-06 00:00:00|Albury  |14.6   |29.7   |0.2     |NA         |NA      |WNW        |56           |W         |W         |19          |24          |55         |23         |1009.2     |1005.4     |NA      |NA      |20.6   |28.9   |No       |No          |\n",
      "|2008-12-07 00:00:00|Albury  |14.3   |25     |0       |NA         |NA      |W          |50           |SW        |W         |20          |24          |49         |19         |1009.6     |1008.2     |1       |NA      |18.1   |24.6   |No       |No          |\n",
      "|2008-12-08 00:00:00|Albury  |7.7    |26.7   |0       |NA         |NA      |W          |35           |SSE       |W         |6           |17          |48         |19         |1013.4     |1010.1     |NA      |NA      |16.3   |25.5   |No       |No          |\n",
      "|2008-12-09 00:00:00|Albury  |9.7    |31.9   |0       |NA         |NA      |NNW        |80           |SE        |NW        |7           |28          |42         |9          |1008.9     |1003.6     |NA      |NA      |18.3   |30.2   |No       |Yes         |\n",
      "|2008-12-10 00:00:00|Albury  |13.1   |30.1   |1.4     |NA         |NA      |W          |28           |S         |SSE       |15          |11          |58         |27         |1007       |1005.7     |NA      |NA      |20.1   |28.2   |Yes      |No          |\n",
      "|2008-12-11 00:00:00|Albury  |13.4   |30.4   |0       |NA         |NA      |N          |30           |SSE       |ESE       |17          |6           |48         |22         |1011.8     |1008.7     |NA      |NA      |20.4   |28.8   |No       |Yes         |\n",
      "|2008-12-12 00:00:00|Albury  |15.9   |21.7   |2.2     |NA         |NA      |NNE        |31           |NE        |ENE       |15          |13          |89         |91         |1010.5     |1004.2     |8       |8       |15.9   |17     |Yes      |Yes         |\n",
      "|2008-12-13 00:00:00|Albury  |15.9   |18.6   |15.6    |NA         |NA      |W          |61           |NNW       |NNW       |28          |28          |76         |93         |994.3      |993        |8       |8       |17.4   |15.8   |Yes      |Yes         |\n",
      "|2008-12-14 00:00:00|Albury  |12.6   |21     |3.6     |NA         |NA      |SW         |44           |W         |SSW       |24          |20          |65         |43         |1001.2     |1001.8     |NA      |7       |15.8   |19.8   |Yes      |No          |\n",
      "|2008-12-16 00:00:00|Albury  |9.8    |27.7   |NA      |NA         |NA      |WNW        |50           |NA        |WNW       |NA          |22          |50         |28         |1013.4     |1010.3     |0       |NA      |17.3   |26.2   |NA       |No          |\n",
      "|2008-12-17 00:00:00|Albury  |14.1   |20.9   |0       |NA         |NA      |ENE        |22           |SSW       |E         |11          |9           |69         |82         |1012.2     |1010.4     |8       |1       |17.2   |18.1   |No       |Yes         |\n",
      "|2008-12-18 00:00:00|Albury  |13.5   |22.9   |16.8    |NA         |NA      |W          |63           |N         |WNW       |6           |20          |80         |65         |1005.8     |1002.2     |8       |1       |18     |21.5   |Yes      |Yes         |\n",
      "|2008-12-19 00:00:00|Albury  |11.2   |22.5   |10.6    |NA         |NA      |SSE        |43           |WSW       |SW        |24          |17          |47         |32         |1009.4     |1009.7     |NA      |2       |15.5   |21     |Yes      |No          |\n",
      "|2008-12-20 00:00:00|Albury  |9.8    |25.6   |0       |NA         |NA      |SSE        |26           |SE        |NNW       |17          |6           |45         |26         |1019.2     |1017.1     |NA      |NA      |15.8   |23.2   |No       |No          |\n",
      "|2008-12-21 00:00:00|Albury  |11.5   |29.3   |0       |NA         |NA      |S          |24           |SE        |SE        |9           |9           |56         |28         |1019.3     |1014.8     |NA      |NA      |19.1   |27.3   |No       |No          |\n",
      "+-------------------+--------+-------+-------+--------+-----------+--------+-----------+-------------+----------+----------+------------+------------+-----------+-----------+-----------+-----------+--------+--------+-------+-------+---------+------------+\n",
      "only showing top 20 rows\n",
      "\n"
     ]
    }
   ],
   "source": [
    "data.show(truncate=False)"
   ]
  },
  {
   "cell_type": "markdown",
   "metadata": {},
   "source": [
    "### Step 03: Delete columns from the dataset"
   ]
  },
  {
   "cell_type": "code",
   "execution_count": 5,
   "metadata": {},
   "outputs": [
    {
     "name": "stdout",
     "output_type": "stream",
     "text": [
      "+-------+-------+--------+-----------+-------------+----------+----------+------------+------------+-----------+-----------+-----------+-----------+---------+------------+\n",
      "|MinTemp|MaxTemp|Rainfall|WindGustDir|WindGustSpeed|WindDir9am|WindDir3pm|WindSpeed9am|WindSpeed3pm|Humidity9am|Humidity3pm|Pressure9am|Pressure3pm|RainToday|RainTomorrow|\n",
      "+-------+-------+--------+-----------+-------------+----------+----------+------------+------------+-----------+-----------+-----------+-----------+---------+------------+\n",
      "|13.4   |22.9   |0.6     |W          |44           |W         |WNW       |20          |24          |71         |22         |1007.7     |1007.1     |No       |No          |\n",
      "|7.4    |25.1   |0       |WNW        |44           |NNW       |WSW       |4           |22          |44         |25         |1010.6     |1007.8     |No       |No          |\n",
      "|12.9   |25.7   |0       |WSW        |46           |W         |WSW       |19          |26          |38         |30         |1007.6     |1008.7     |No       |No          |\n",
      "|9.2    |28     |0       |NE         |24           |SE        |E         |11          |9           |45         |16         |1017.6     |1012.8     |No       |No          |\n",
      "|17.5   |32.3   |1       |W          |41           |ENE       |NW        |7           |20          |82         |33         |1010.8     |1006       |No       |No          |\n",
      "|14.6   |29.7   |0.2     |WNW        |56           |W         |W         |19          |24          |55         |23         |1009.2     |1005.4     |No       |No          |\n",
      "|14.3   |25     |0       |W          |50           |SW        |W         |20          |24          |49         |19         |1009.6     |1008.2     |No       |No          |\n",
      "|7.7    |26.7   |0       |W          |35           |SSE       |W         |6           |17          |48         |19         |1013.4     |1010.1     |No       |No          |\n",
      "|9.7    |31.9   |0       |NNW        |80           |SE        |NW        |7           |28          |42         |9          |1008.9     |1003.6     |No       |Yes         |\n",
      "|13.1   |30.1   |1.4     |W          |28           |S         |SSE       |15          |11          |58         |27         |1007       |1005.7     |Yes      |No          |\n",
      "|13.4   |30.4   |0       |N          |30           |SSE       |ESE       |17          |6           |48         |22         |1011.8     |1008.7     |No       |Yes         |\n",
      "|15.9   |21.7   |2.2     |NNE        |31           |NE        |ENE       |15          |13          |89         |91         |1010.5     |1004.2     |Yes      |Yes         |\n",
      "|15.9   |18.6   |15.6    |W          |61           |NNW       |NNW       |28          |28          |76         |93         |994.3      |993        |Yes      |Yes         |\n",
      "|12.6   |21     |3.6     |SW         |44           |W         |SSW       |24          |20          |65         |43         |1001.2     |1001.8     |Yes      |No          |\n",
      "|9.8    |27.7   |NA      |WNW        |50           |NA        |WNW       |NA          |22          |50         |28         |1013.4     |1010.3     |NA       |No          |\n",
      "|14.1   |20.9   |0       |ENE        |22           |SSW       |E         |11          |9           |69         |82         |1012.2     |1010.4     |No       |Yes         |\n",
      "|13.5   |22.9   |16.8    |W          |63           |N         |WNW       |6           |20          |80         |65         |1005.8     |1002.2     |Yes      |Yes         |\n",
      "|11.2   |22.5   |10.6    |SSE        |43           |WSW       |SW        |24          |17          |47         |32         |1009.4     |1009.7     |Yes      |No          |\n",
      "|9.8    |25.6   |0       |SSE        |26           |SE        |NNW       |17          |6           |45         |26         |1019.2     |1017.1     |No       |No          |\n",
      "|11.5   |29.3   |0       |S          |24           |SE        |SE        |9           |9           |56         |28         |1019.3     |1014.8     |No       |No          |\n",
      "+-------+-------+--------+-----------+-------------+----------+----------+------------+------------+-----------+-----------+-----------+-----------+---------+------------+\n",
      "only showing top 20 rows\n",
      "\n"
     ]
    }
   ],
   "source": [
    "# Delete useless data\n",
    "drop_list = ['Date', 'Location','Evaporation','Sunshine','Cloud9am','Cloud3pm','Temp9am','Temp3pm']\n",
    "\n",
    "data = data.select([column for column in data.columns if column not in drop_list])\n",
    "cols = data.columns\n",
    "data.show(truncate=False)"
   ]
  },
  {
   "cell_type": "markdown",
   "metadata": {},
   "source": [
    "### Step 04: Print the number of missing data in each column"
   ]
  },
  {
   "cell_type": "markdown",
   "metadata": {},
   "source": [
    "Checking if any of the column values is null"
   ]
  },
  {
   "cell_type": "code",
   "execution_count": 6,
   "metadata": {},
   "outputs": [
    {
     "name": "stdout",
     "output_type": "stream",
     "text": [
      "MinTemp : 0\n",
      "MaxTemp : 0\n",
      "Rainfall : 0\n",
      "WindGustDir : 0\n",
      "WindGustSpeed : 0\n",
      "WindDir9am : 0\n",
      "WindDir3pm : 0\n",
      "WindSpeed9am : 0\n",
      "WindSpeed3pm : 0\n",
      "Humidity9am : 0\n",
      "Humidity3pm : 0\n",
      "Pressure9am : 0\n",
      "Pressure3pm : 0\n",
      "RainToday : 0\n",
      "RainTomorrow : 0\n"
     ]
    }
   ],
   "source": [
    "for each in data.columns:\n",
    "    print(each,\":\",data.filter(data[each].isNull()).count())"
   ]
  },
  {
   "cell_type": "markdown",
   "metadata": {},
   "source": [
    "Checking if any of the columns has value NA"
   ]
  },
  {
   "cell_type": "code",
   "execution_count": 7,
   "metadata": {},
   "outputs": [
    {
     "name": "stdout",
     "output_type": "stream",
     "text": [
      "MinTemp : 637\n",
      "MaxTemp : 322\n",
      "Rainfall : 1406\n",
      "WindGustDir : 9330\n",
      "WindGustSpeed : 9270\n",
      "WindDir9am : 10013\n",
      "WindDir3pm : 3778\n",
      "WindSpeed9am : 1348\n",
      "WindSpeed3pm : 2630\n",
      "Humidity9am : 1774\n",
      "Humidity3pm : 3610\n",
      "Pressure9am : 14014\n",
      "Pressure3pm : 13981\n",
      "RainToday : 1406\n",
      "RainTomorrow : 0\n"
     ]
    }
   ],
   "source": [
    "for each in data.columns:\n",
    "    print(each,\":\",data.filter(data[each] == 'NA').count())"
   ]
  },
  {
   "cell_type": "markdown",
   "metadata": {},
   "source": [
    "### Step 05: Fill the missing data with average value and maximum occurrence value."
   ]
  },
  {
   "cell_type": "markdown",
   "metadata": {},
   "source": [
    "Checking the datatypes of each columns"
   ]
  },
  {
   "cell_type": "code",
   "execution_count": 8,
   "metadata": {},
   "outputs": [
    {
     "data": {
      "text/plain": [
       "[('MinTemp', 'string'),\n",
       " ('MaxTemp', 'string'),\n",
       " ('Rainfall', 'string'),\n",
       " ('WindGustDir', 'string'),\n",
       " ('WindGustSpeed', 'string'),\n",
       " ('WindDir9am', 'string'),\n",
       " ('WindDir3pm', 'string'),\n",
       " ('WindSpeed9am', 'string'),\n",
       " ('WindSpeed3pm', 'string'),\n",
       " ('Humidity9am', 'string'),\n",
       " ('Humidity3pm', 'string'),\n",
       " ('Pressure9am', 'string'),\n",
       " ('Pressure3pm', 'string'),\n",
       " ('RainToday', 'string'),\n",
       " ('RainTomorrow', 'string')]"
      ]
     },
     "execution_count": 8,
     "metadata": {},
     "output_type": "execute_result"
    }
   ],
   "source": [
    "data.dtypes"
   ]
  },
  {
   "cell_type": "markdown",
   "metadata": {},
   "source": [
    "Since all the columns data type looks like string but we know that some of the columns are numbers. So manualyy checking which all columns are numeric and which all columns are categorical"
   ]
  },
  {
   "cell_type": "code",
   "execution_count": 9,
   "metadata": {},
   "outputs": [
    {
     "data": {
      "text/plain": [
       "[Row(MinTemp='13.4', MaxTemp='22.9', Rainfall='0.6', WindGustDir='W', WindGustSpeed='44', WindDir9am='W', WindDir3pm='WNW', WindSpeed9am='20', WindSpeed3pm='24', Humidity9am='71', Humidity3pm='22', Pressure9am='1007.7', Pressure3pm='1007.1', RainToday='No', RainTomorrow='No')]"
      ]
     },
     "execution_count": 9,
     "metadata": {},
     "output_type": "execute_result"
    }
   ],
   "source": [
    "data.head(1)"
   ]
  },
  {
   "cell_type": "code",
   "execution_count": 10,
   "metadata": {},
   "outputs": [],
   "source": [
    "numericDataColumns = ['MinTemp',\n",
    " 'MaxTemp',\n",
    " 'Rainfall',\n",
    " 'WindGustSpeed',\n",
    " 'WindSpeed9am',\n",
    " 'WindSpeed3pm',\n",
    " 'Humidity9am',\n",
    " 'Humidity3pm',\n",
    " 'Pressure9am',\n",
    " 'Pressure3pm']"
   ]
  },
  {
   "cell_type": "code",
   "execution_count": 11,
   "metadata": {},
   "outputs": [],
   "source": [
    "categoricalDataColumns = ['WindGustDir', 'WindDir9am', 'WindDir3pm', 'RainToday']"
   ]
  },
  {
   "cell_type": "markdown",
   "metadata": {},
   "source": [
    "finding the average values for each numeric columns"
   ]
  },
  {
   "cell_type": "code",
   "execution_count": 12,
   "metadata": {},
   "outputs": [
    {
     "data": {
      "text/plain": [
       "[('MinTemp', 12.19),\n",
       " ('MaxTemp', 23.23),\n",
       " ('Rainfall', 2.35),\n",
       " ('WindGustSpeed', 39.98),\n",
       " ('WindSpeed9am', 14.0),\n",
       " ('WindSpeed3pm', 18.64),\n",
       " ('Humidity9am', 68.84),\n",
       " ('Humidity3pm', 51.48),\n",
       " ('Pressure9am', 1017.65),\n",
       " ('Pressure3pm', 1015.26)]"
      ]
     },
     "execution_count": 12,
     "metadata": {},
     "output_type": "execute_result"
    }
   ],
   "source": [
    "avgList = []\n",
    "for each in numericDataColumns:\n",
    "    avgList.append((each,round(data.filter(data[each] != 'NA').agg({each: \"avg\"}).collect()[0][\"avg(\"+each+\")\"],2)))\n",
    "avgList #This list has all the numeric column names and its respective average values"
   ]
  },
  {
   "cell_type": "markdown",
   "metadata": {},
   "source": [
    "Replacing numeric column missing values with its respective average values"
   ]
  },
  {
   "cell_type": "code",
   "execution_count": 13,
   "metadata": {},
   "outputs": [],
   "source": [
    "for key,val in avgList:\n",
    "    data = data.withColumn(key,when(data[key] == 'NA',val).otherwise(data[key]))"
   ]
  },
  {
   "cell_type": "markdown",
   "metadata": {},
   "source": [
    "Finding the most occuring word for categorical columns"
   ]
  },
  {
   "cell_type": "code",
   "execution_count": 14,
   "metadata": {},
   "outputs": [
    {
     "data": {
      "text/plain": [
       "[('WindGustDir', 'W'),\n",
       " ('WindDir9am', 'N'),\n",
       " ('WindDir3pm', 'SE'),\n",
       " ('RainToday', 'No')]"
      ]
     },
     "execution_count": 14,
     "metadata": {},
     "output_type": "execute_result"
    }
   ],
   "source": [
    "moderesult = []\n",
    "for each in categoricalDataColumns:\n",
    "    moderesult.append((each,data.groupBy(data[each]).count().sort(desc(\"count\")).collect()[0][each]))\n",
    "moderesult"
   ]
  },
  {
   "cell_type": "markdown",
   "metadata": {},
   "source": [
    "Replacing missing values with most occuring values"
   ]
  },
  {
   "cell_type": "code",
   "execution_count": 15,
   "metadata": {},
   "outputs": [],
   "source": [
    "for key,val in moderesult:\n",
    "    data = data.withColumn(key,when(data[key] == 'NA',val).otherwise(data[key]))"
   ]
  },
  {
   "cell_type": "markdown",
   "metadata": {},
   "source": [
    "Cross verifying if all the NA is been replaced or not"
   ]
  },
  {
   "cell_type": "code",
   "execution_count": 16,
   "metadata": {},
   "outputs": [
    {
     "name": "stdout",
     "output_type": "stream",
     "text": [
      "MinTemp : 0\n",
      "MaxTemp : 0\n",
      "Rainfall : 0\n",
      "WindGustDir : 0\n",
      "WindGustSpeed : 0\n",
      "WindDir9am : 0\n",
      "WindDir3pm : 0\n",
      "WindSpeed9am : 0\n",
      "WindSpeed3pm : 0\n",
      "Humidity9am : 0\n",
      "Humidity3pm : 0\n",
      "Pressure9am : 0\n",
      "Pressure3pm : 0\n",
      "RainToday : 0\n",
      "RainTomorrow : 0\n"
     ]
    }
   ],
   "source": [
    "for each in data.columns:\n",
    "    print(each,\":\",data.filter(data[each] == 'NA').count())"
   ]
  },
  {
   "cell_type": "markdown",
   "metadata": {},
   "source": [
    "Looks like all the NA is been replaced. Now checking wheather the average and most occuring word has changed for each column"
   ]
  },
  {
   "cell_type": "code",
   "execution_count": 17,
   "metadata": {},
   "outputs": [
    {
     "data": {
      "text/plain": [
       "[('MinTemp', 12.19),\n",
       " ('MaxTemp', 23.23),\n",
       " ('Rainfall', 2.35),\n",
       " ('WindGustSpeed', 39.98),\n",
       " ('WindSpeed9am', 14.0),\n",
       " ('WindSpeed3pm', 18.64),\n",
       " ('Humidity9am', 68.84),\n",
       " ('Humidity3pm', 51.48),\n",
       " ('Pressure9am', 1017.65),\n",
       " ('Pressure3pm', 1015.26)]"
      ]
     },
     "execution_count": 17,
     "metadata": {},
     "output_type": "execute_result"
    }
   ],
   "source": [
    "newAvgList = []\n",
    "for each in numericDataColumns:\n",
    "    newAvgList.append((each,round(data.filter(data[each] != 'NA').agg({each: \"avg\"}).collect()[0][\"avg(\"+each+\")\"],2)))\n",
    "newAvgList"
   ]
  },
  {
   "cell_type": "code",
   "execution_count": 18,
   "metadata": {},
   "outputs": [
    {
     "data": {
      "text/plain": [
       "[('WindGustDir', 'W'),\n",
       " ('WindDir9am', 'N'),\n",
       " ('WindDir3pm', 'SE'),\n",
       " ('RainToday', 'No')]"
      ]
     },
     "execution_count": 18,
     "metadata": {},
     "output_type": "execute_result"
    }
   ],
   "source": [
    "newModeresult = []\n",
    "for each in categoricalDataColumns:\n",
    "    newModeresult.append((each,data.groupBy(data[each]).count().sort(desc(\"count\")).collect()[0][each]))\n",
    "newModeresult"
   ]
  },
  {
   "cell_type": "markdown",
   "metadata": {},
   "source": [
    "Looks like Both most occuring words of categorical columns and average of numeric columns has not been changed"
   ]
  },
  {
   "cell_type": "markdown",
   "metadata": {},
   "source": [
    "### Step 06: Data transformation"
   ]
  },
  {
   "cell_type": "markdown",
   "metadata": {},
   "source": [
    "Checking the datatype of each columns"
   ]
  },
  {
   "cell_type": "code",
   "execution_count": 19,
   "metadata": {},
   "outputs": [
    {
     "data": {
      "text/plain": [
       "[('MinTemp', 'string'),\n",
       " ('MaxTemp', 'string'),\n",
       " ('Rainfall', 'string'),\n",
       " ('WindGustDir', 'string'),\n",
       " ('WindGustSpeed', 'string'),\n",
       " ('WindDir9am', 'string'),\n",
       " ('WindDir3pm', 'string'),\n",
       " ('WindSpeed9am', 'string'),\n",
       " ('WindSpeed3pm', 'string'),\n",
       " ('Humidity9am', 'string'),\n",
       " ('Humidity3pm', 'string'),\n",
       " ('Pressure9am', 'string'),\n",
       " ('Pressure3pm', 'string'),\n",
       " ('RainToday', 'string'),\n",
       " ('RainTomorrow', 'string')]"
      ]
     },
     "execution_count": 19,
     "metadata": {},
     "output_type": "execute_result"
    }
   ],
   "source": [
    "data.dtypes"
   ]
  },
  {
   "cell_type": "markdown",
   "metadata": {},
   "source": [
    "Converting numeric columns to type double"
   ]
  },
  {
   "cell_type": "code",
   "execution_count": 20,
   "metadata": {},
   "outputs": [
    {
     "data": {
      "text/plain": [
       "[('MinTemp', 'double'),\n",
       " ('MaxTemp', 'double'),\n",
       " ('Rainfall', 'double'),\n",
       " ('WindGustDir', 'string'),\n",
       " ('WindGustSpeed', 'double'),\n",
       " ('WindDir9am', 'string'),\n",
       " ('WindDir3pm', 'string'),\n",
       " ('WindSpeed9am', 'double'),\n",
       " ('WindSpeed3pm', 'double'),\n",
       " ('Humidity9am', 'double'),\n",
       " ('Humidity3pm', 'double'),\n",
       " ('Pressure9am', 'double'),\n",
       " ('Pressure3pm', 'double'),\n",
       " ('RainToday', 'string'),\n",
       " ('RainTomorrow', 'string')]"
      ]
     },
     "execution_count": 20,
     "metadata": {},
     "output_type": "execute_result"
    }
   ],
   "source": [
    "for each in numericDataColumns:\n",
    "    data = data.withColumn(each, data[each].cast(\"double\"))\n",
    "data.dtypes"
   ]
  },
  {
   "cell_type": "code",
   "execution_count": 21,
   "metadata": {},
   "outputs": [],
   "source": [
    "stages = []\n",
    "for categoricalCol in categoricalDataColumns:\n",
    "    # Assigning a numeric index value to each category\n",
    "    # Why do you do this: to sequence between categories\n",
    "    stringIndexer = StringIndexer(inputCol = categoricalCol, outputCol = categoricalCol + 'Index')\n",
    "    \n",
    "    #Convert indexed categories to one-hot encoded variables (classVec)\n",
    "    encoder = OneHotEncoderEstimator(inputCols=[stringIndexer.getOutputCol()], outputCols=[categoricalCol + \"classVec\"])\n",
    "    \n",
    "    #When printing steps, a binary vector is added to the end of each line.\n",
    "    stages += [stringIndexer, encoder]"
   ]
  },
  {
   "cell_type": "code",
   "execution_count": 22,
   "metadata": {},
   "outputs": [],
   "source": [
    "label_stringIdx = StringIndexer(inputCol = 'RainTomorrow', outputCol = 'label')\n",
    "stages += [label_stringIdx]"
   ]
  },
  {
   "cell_type": "markdown",
   "metadata": {},
   "source": [
    "### Step 07: Create the feature vector and divide the dataset"
   ]
  },
  {
   "cell_type": "code",
   "execution_count": 23,
   "metadata": {},
   "outputs": [
    {
     "name": "stdout",
     "output_type": "stream",
     "text": [
      "+-------+-------+--------+-----------+-------------+----------+----------+------------+------------+-----------+-----------+-----------+-----------+---------+------------+----------------+-------------------+---------------+------------------+---------------+------------------+--------------+-----------------+-----+--------------------+\n",
      "|MinTemp|MaxTemp|Rainfall|WindGustDir|WindGustSpeed|WindDir9am|WindDir3pm|WindSpeed9am|WindSpeed3pm|Humidity9am|Humidity3pm|Pressure9am|Pressure3pm|RainToday|RainTomorrow|WindGustDirIndex|WindGustDirclassVec|WindDir9amIndex|WindDir9amclassVec|WindDir3pmIndex|WindDir3pmclassVec|RainTodayIndex|RainTodayclassVec|label|            features|\n",
      "+-------+-------+--------+-----------+-------------+----------+----------+------------+------------+-----------+-----------+-----------+-----------+---------+------------+----------------+-------------------+---------------+------------------+---------------+------------------+--------------+-----------------+-----+--------------------+\n",
      "|   13.4|   22.9|     0.6|          W|         44.0|         W|       WNW|        20.0|        24.0|       71.0|       22.0|     1007.7|     1007.1|       No|          No|             0.0|     (15,[0],[1.0])|            6.0|    (15,[6],[1.0])|            7.0|    (15,[7],[1.0])|           0.0|    (1,[0],[1.0])|  0.0|(56,[0,21,37,45,4...|\n",
      "|    7.4|   25.1|     0.0|        WNW|         44.0|       NNW|       WSW|         4.0|        22.0|       44.0|       25.0|     1010.6|     1007.8|       No|          No|             9.0|     (15,[9],[1.0])|            9.0|    (15,[9],[1.0])|            3.0|    (15,[3],[1.0])|           0.0|    (1,[0],[1.0])|  0.0|(56,[9,24,33,45,4...|\n",
      "|   12.9|   25.7|     0.0|        WSW|         46.0|         W|       WSW|        19.0|        26.0|       38.0|       30.0|     1007.6|     1008.7|       No|          No|             6.0|     (15,[6],[1.0])|            6.0|    (15,[6],[1.0])|            3.0|    (15,[3],[1.0])|           0.0|    (1,[0],[1.0])|  0.0|(56,[6,21,33,45,4...|\n",
      "|    9.2|   28.0|     0.0|         NE|         24.0|        SE|         E|        11.0|         9.0|       45.0|       16.0|     1017.6|     1012.8|       No|          No|            13.0|    (15,[13],[1.0])|            1.0|    (15,[1],[1.0])|           10.0|   (15,[10],[1.0])|           0.0|    (1,[0],[1.0])|  0.0|(56,[13,16,40,45,...|\n",
      "|   17.5|   32.3|     1.0|          W|         41.0|       ENE|        NW|         7.0|        20.0|       82.0|       33.0|     1010.8|     1006.0|       No|          No|             0.0|     (15,[0],[1.0])|           10.0|   (15,[10],[1.0])|            8.0|    (15,[8],[1.0])|           0.0|    (1,[0],[1.0])|  0.0|(56,[0,25,38,45,4...|\n",
      "|   14.6|   29.7|     0.2|        WNW|         56.0|         W|         W|        19.0|        24.0|       55.0|       23.0|     1009.2|     1005.4|       No|          No|             9.0|     (15,[9],[1.0])|            6.0|    (15,[6],[1.0])|            1.0|    (15,[1],[1.0])|           0.0|    (1,[0],[1.0])|  0.0|(56,[9,21,31,45,4...|\n",
      "|   14.3|   25.0|     0.0|          W|         50.0|        SW|         W|        20.0|        24.0|       49.0|       19.0|     1009.6|     1008.2|       No|          No|             0.0|     (15,[0],[1.0])|            7.0|    (15,[7],[1.0])|            1.0|    (15,[1],[1.0])|           0.0|    (1,[0],[1.0])|  0.0|(56,[0,22,31,45,4...|\n",
      "|    7.7|   26.7|     0.0|          W|         35.0|       SSE|         W|         6.0|        17.0|       48.0|       19.0|     1013.4|     1010.1|       No|          No|             0.0|     (15,[0],[1.0])|            3.0|    (15,[3],[1.0])|            1.0|    (15,[1],[1.0])|           0.0|    (1,[0],[1.0])|  0.0|(56,[0,18,31,45,4...|\n",
      "|    9.7|   31.9|     0.0|        NNW|         80.0|        SE|        NW|         7.0|        28.0|       42.0|        9.0|     1008.9|     1003.6|       No|         Yes|            14.0|    (15,[14],[1.0])|            1.0|    (15,[1],[1.0])|            8.0|    (15,[8],[1.0])|           0.0|    (1,[0],[1.0])|  1.0|(56,[14,16,38,45,...|\n",
      "|   13.1|   30.1|     1.4|          W|         28.0|         S|       SSE|        15.0|        11.0|       58.0|       27.0|     1007.0|     1005.7|      Yes|          No|             0.0|     (15,[0],[1.0])|            5.0|    (15,[5],[1.0])|            5.0|    (15,[5],[1.0])|           1.0|        (1,[],[])|  0.0|(56,[0,20,35,46,4...|\n",
      "|   13.4|   30.4|     0.0|          N|         30.0|       SSE|       ESE|        17.0|         6.0|       48.0|       22.0|     1011.8|     1008.7|       No|         Yes|             3.0|     (15,[3],[1.0])|            3.0|    (15,[3],[1.0])|            9.0|    (15,[9],[1.0])|           0.0|    (1,[0],[1.0])|  1.0|(56,[3,18,39,45,4...|\n",
      "|   15.9|   21.7|     2.2|        NNE|         31.0|        NE|       ENE|        15.0|        13.0|       89.0|       91.0|     1010.5|     1004.2|      Yes|         Yes|            15.0|         (15,[],[])|           12.0|   (15,[12],[1.0])|           14.0|   (15,[14],[1.0])|           1.0|        (1,[],[])|  1.0|(56,[27,44,46,47,...|\n",
      "|   15.9|   18.6|    15.6|          W|         61.0|       NNW|       NNW|        28.0|        28.0|       76.0|       93.0|      994.3|      993.0|      Yes|         Yes|             0.0|     (15,[0],[1.0])|            9.0|    (15,[9],[1.0])|           13.0|   (15,[13],[1.0])|           1.0|        (1,[],[])|  1.0|(56,[0,24,43,46,4...|\n",
      "|   12.6|   21.0|     3.6|         SW|         44.0|         W|       SSW|        24.0|        20.0|       65.0|       43.0|     1001.2|     1001.8|      Yes|          No|             7.0|     (15,[7],[1.0])|            6.0|    (15,[6],[1.0])|           12.0|   (15,[12],[1.0])|           1.0|        (1,[],[])|  0.0|(56,[7,21,42,46,4...|\n",
      "|    9.8|   27.7|    2.35|        WNW|         50.0|         N|       WNW|        14.0|        22.0|       50.0|       28.0|     1013.4|     1010.3|       No|          No|             9.0|     (15,[9],[1.0])|            0.0|    (15,[0],[1.0])|            7.0|    (15,[7],[1.0])|           0.0|    (1,[0],[1.0])|  0.0|(56,[9,15,37,45,4...|\n",
      "|   14.1|   20.9|     0.0|        ENE|         22.0|       SSW|         E|        11.0|         9.0|       69.0|       82.0|     1012.2|     1010.4|       No|         Yes|            11.0|    (15,[11],[1.0])|           13.0|   (15,[13],[1.0])|           10.0|   (15,[10],[1.0])|           0.0|    (1,[0],[1.0])|  1.0|(56,[11,28,40,45,...|\n",
      "|   13.5|   22.9|    16.8|          W|         63.0|         N|       WNW|         6.0|        20.0|       80.0|       65.0|     1005.8|     1002.2|      Yes|         Yes|             0.0|     (15,[0],[1.0])|            0.0|    (15,[0],[1.0])|            7.0|    (15,[7],[1.0])|           1.0|        (1,[],[])|  1.0|(56,[0,15,37,46,4...|\n",
      "|   11.2|   22.5|    10.6|        SSE|         43.0|       WSW|        SW|        24.0|        17.0|       47.0|       32.0|     1009.4|     1009.7|      Yes|          No|             4.0|     (15,[4],[1.0])|           15.0|        (15,[],[])|            4.0|    (15,[4],[1.0])|           1.0|        (1,[],[])|  0.0|(56,[4,34,46,47,4...|\n",
      "|    9.8|   25.6|     0.0|        SSE|         26.0|        SE|       NNW|        17.0|         6.0|       45.0|       26.0|     1019.2|     1017.1|       No|          No|             4.0|     (15,[4],[1.0])|            1.0|    (15,[1],[1.0])|           13.0|   (15,[13],[1.0])|           0.0|    (1,[0],[1.0])|  0.0|(56,[4,16,43,45,4...|\n",
      "|   11.5|   29.3|     0.0|          S|         24.0|        SE|        SE|         9.0|         9.0|       56.0|       28.0|     1019.3|     1014.8|       No|          No|             5.0|     (15,[5],[1.0])|            1.0|    (15,[1],[1.0])|            0.0|    (15,[0],[1.0])|           0.0|    (1,[0],[1.0])|  0.0|(56,[5,16,30,45,4...|\n",
      "+-------+-------+--------+-----------+-------------+----------+----------+------------+------------+-----------+-----------+-----------+-----------+---------+------------+----------------+-------------------+---------------+------------------+---------------+------------------+--------------+-----------------+-----+--------------------+\n",
      "only showing top 20 rows\n",
      "\n"
     ]
    }
   ],
   "source": [
    "assemblerInputs = [c + \"classVec\" for c in categoricalDataColumns] + numericDataColumns\n",
    "assembler = VectorAssembler(inputCols = assemblerInputs, outputCol=\"features\")\n",
    "stages += [assembler]\n",
    "pipeline = Pipeline(stages = stages)\n",
    "pipelineModel = pipeline.fit(data)\n",
    "data = pipelineModel.transform(data)\n",
    "data.show()"
   ]
  },
  {
   "cell_type": "code",
   "execution_count": 24,
   "metadata": {},
   "outputs": [
    {
     "name": "stdout",
     "output_type": "stream",
     "text": [
      "root\n",
      " |-- label: double (nullable = false)\n",
      " |-- features: vector (nullable = true)\n",
      " |-- MinTemp: double (nullable = true)\n",
      " |-- MaxTemp: double (nullable = true)\n",
      " |-- Rainfall: double (nullable = true)\n",
      " |-- WindGustDir: string (nullable = true)\n",
      " |-- WindGustSpeed: double (nullable = true)\n",
      " |-- WindDir9am: string (nullable = true)\n",
      " |-- WindDir3pm: string (nullable = true)\n",
      " |-- WindSpeed9am: double (nullable = true)\n",
      " |-- WindSpeed3pm: double (nullable = true)\n",
      " |-- Humidity9am: double (nullable = true)\n",
      " |-- Humidity3pm: double (nullable = true)\n",
      " |-- Pressure9am: double (nullable = true)\n",
      " |-- Pressure3pm: double (nullable = true)\n",
      " |-- RainToday: string (nullable = true)\n",
      " |-- RainTomorrow: string (nullable = true)\n",
      "\n"
     ]
    }
   ],
   "source": [
    "selectedCols = ['label', 'features'] + cols\n",
    "data = data.select(selectedCols)\n",
    "data.printSchema()"
   ]
  },
  {
   "cell_type": "markdown",
   "metadata": {},
   "source": [
    "Splitting the data into training and test set"
   ]
  },
  {
   "cell_type": "code",
   "execution_count": 25,
   "metadata": {},
   "outputs": [
    {
     "name": "stdout",
     "output_type": "stream",
     "text": [
      "Training Dataset Count: 99709\n",
      "Test Dataset Count: 42484\n"
     ]
    }
   ],
   "source": [
    "train, test = data.randomSplit([0.7, 0.3], seed = 100)\n",
    "print(\"Training Dataset Count: \" + str(train.count()))\n",
    "print(\"Test Dataset Count: \" + str(test.count()))"
   ]
  },
  {
   "cell_type": "markdown",
   "metadata": {},
   "source": [
    "## C. Apply Machine Learning Algorithms\n",
    "### Step 08: Apply machine learning classification algorithms on the dataset and compare their accuracy. Plot the accuracy as bar graph."
   ]
  },
  {
   "cell_type": "code",
   "execution_count": 26,
   "metadata": {},
   "outputs": [],
   "source": [
    "evaluator = MulticlassClassificationEvaluator(labelCol=\"label\", predictionCol=\"prediction\",metricName=\"accuracy\")\n",
    "binaryEvaluator = BinaryClassificationEvaluator()"
   ]
  },
  {
   "cell_type": "markdown",
   "metadata": {},
   "source": [
    "### Decision Tree"
   ]
  },
  {
   "cell_type": "code",
   "execution_count": 27,
   "metadata": {},
   "outputs": [
    {
     "name": "stdout",
     "output_type": "stream",
     "text": [
      "+----------+-----+\n",
      "|prediction|label|\n",
      "+----------+-----+\n",
      "|       0.0|  0.0|\n",
      "|       0.0|  0.0|\n",
      "|       0.0|  0.0|\n",
      "|       0.0|  0.0|\n",
      "|       0.0|  0.0|\n",
      "+----------+-----+\n",
      "only showing top 5 rows\n",
      "\n",
      "Accuracy 0.8337020996139723\n",
      "Test Area Under ROC 0.28445439238903747\n"
     ]
    }
   ],
   "source": [
    "dt = DecisionTreeClassifier(labelCol=\"label\", featuresCol=\"features\")\n",
    "dtModel = dt.fit(train)\n",
    "dtPredictions = dtModel.transform(test)\n",
    "dtPredictions.select(\"prediction\", \"label\").show(5)\n",
    "dtAccuracy = evaluator.evaluate(dtPredictions)\n",
    "dtROC = binaryEvaluator.evaluate(dtPredictions)\n",
    "print(\"Accuracy\",dtAccuracy)\n",
    "print('Test Area Under ROC',dtROC )"
   ]
  },
  {
   "cell_type": "markdown",
   "metadata": {},
   "source": [
    "### Random Forest"
   ]
  },
  {
   "cell_type": "code",
   "execution_count": 28,
   "metadata": {},
   "outputs": [
    {
     "name": "stdout",
     "output_type": "stream",
     "text": [
      "+----------+-----+\n",
      "|prediction|label|\n",
      "+----------+-----+\n",
      "|       0.0|  0.0|\n",
      "|       0.0|  0.0|\n",
      "|       0.0|  0.0|\n",
      "|       0.0|  0.0|\n",
      "|       0.0|  0.0|\n",
      "+----------+-----+\n",
      "only showing top 5 rows\n",
      "\n",
      "Accuracy 0.8210855851614726\n",
      "Test Area Under ROC 0.8270589422720775\n"
     ]
    }
   ],
   "source": [
    "rf = RandomForestClassifier(labelCol=\"label\",featuresCol=\"features\", numTrees=100)\n",
    "rfModel = rf.fit(train)\n",
    "rfPredictions = rfModel.transform(test)\n",
    "rfPredictions.select(\"prediction\", \"label\").show(5)\n",
    "rfAccuracy = evaluator.evaluate(rfPredictions)\n",
    "rfROC = binaryEvaluator.evaluate(rfPredictions)\n",
    "print(\"Accuracy\",rfAccuracy)\n",
    "print('Test Area Under ROC',rfROC )"
   ]
  },
  {
   "cell_type": "markdown",
   "metadata": {},
   "source": [
    "### Logistic Regression"
   ]
  },
  {
   "cell_type": "code",
   "execution_count": 29,
   "metadata": {},
   "outputs": [
    {
     "name": "stdout",
     "output_type": "stream",
     "text": [
      "Accuracy 0.8160954712362302\n",
      "Test Area Under ROC 0.8106452782245887\n"
     ]
    }
   ],
   "source": [
    "# Create an initial model using the train set.\n",
    "lr = LogisticRegression(featuresCol = 'features', labelCol = 'label',    maxIter=10)\n",
    "lrModel = lr.fit(train)\n",
    "lrPredictions = lrModel.transform(test)\n",
    "lrAccuracy = evaluator.evaluate(lrPredictions)\n",
    "lrROC = binaryEvaluator.evaluate(lrPredictions)\n",
    "print(\"Accuracy\",lrAccuracy)\n",
    "print('Test Area Under ROC',lrROC )"
   ]
  },
  {
   "cell_type": "markdown",
   "metadata": {},
   "source": [
    "### Gradient Boosting"
   ]
  },
  {
   "cell_type": "code",
   "execution_count": 30,
   "metadata": {},
   "outputs": [
    {
     "name": "stdout",
     "output_type": "stream",
     "text": [
      "Accuracy 0.8377506826099237\n",
      "Test Area Under ROC 0.8498639624170983\n"
     ]
    }
   ],
   "source": [
    "gbt = GBTClassifier(featuresCol = 'features', labelCol = 'label',maxIter=10)\n",
    "gbtModel = gbt.fit(train)\n",
    "gbPredictions = gbtModel.transform(test)\n",
    "gbAccuracy = evaluator.evaluate(gbPredictions)\n",
    "gbROC = binaryEvaluator.evaluate(gbPredictions)\n",
    "print(\"Accuracy\",gbAccuracy)\n",
    "print('Test Area Under ROC',gbROC )"
   ]
  },
  {
   "cell_type": "code",
   "execution_count": 31,
   "metadata": {},
   "outputs": [
    {
     "data": {
      "image/png": "[encoded data removed]",
      "text/plain": [
       "<Figure size 1440x720 with 1 Axes>"
      ]
     },
     "metadata": {
      "needs_background": "light"
     },
     "output_type": "display_data"
    }
   ],
   "source": [
    "values = [(\"Descision Tree\", dtAccuracy), (\"Random Forest\", rfAccuracy), (\"Logistic Regression\", lrAccuracy),\\\n",
    "          (\"Gradient Boosting\", gbAccuracy)]\n",
    "values = sorted(values, key=lambda x: x[1], reverse=True)\n",
    "models = [key for key,val in values]\n",
    "Accuracy = [val for key,val in values]\n",
    "Accuracy = [round(each*100,2) for each in Accuracy]\n",
    "\n",
    "plt.figure(figsize = (20,10))\n",
    "plt.bar(models, Accuracy, 0.5, align='center', color='C0')\n",
    "plt.yticks(fontsize=15)\n",
    "plt.xticks(rotation = 45, fontsize = 15)\n",
    "plt.xlabel('Models',fontsize=18)\n",
    "plt.ylabel('Accuracy(in %)',fontsize=18)\n",
    "plt.title('Accuracy of tomorrows rain prediction using different models',fontsize=20)\n",
    "\n",
    "plt.show()"
   ]
  },
  {
   "cell_type": "code",
   "execution_count": 32,
   "metadata": {},
   "outputs": [
    {
     "data": {
      "image/png": "[encoded data removed]",
      "text/plain": [
       "<Figure size 1440x720 with 1 Axes>"
      ]
     },
     "metadata": {
      "needs_background": "light"
     },
     "output_type": "display_data"
    }
   ],
   "source": [
    "values = [(\"Descision Tree\", dtROC), (\"Random Forest\", rfROC), (\"Logistic Regression\", lrROC),\\\n",
    "          (\"Gradient Boosting\", gbROC)]\n",
    "values = sorted(values, key=lambda x: x[1], reverse=True)\n",
    "models = [key for key,val in values]\n",
    "Accuracy = [val for key,val in values]\n",
    "Accuracy = [round(each*100,2) for each in Accuracy]\n",
    "\n",
    "plt.figure(figsize = (20,10))\n",
    "plt.bar(models, Accuracy, 0.5, align='center', color='C0')\n",
    "plt.yticks(fontsize=15)\n",
    "plt.xticks(rotation = 45, fontsize = 15)\n",
    "plt.xlabel('Models',fontsize=18)\n",
    "plt.ylabel('Test Area Under ROC(in %)',fontsize=18)\n",
    "plt.title('Accuracy of tomorrows rain prediction using different models',fontsize=20)\n",
    "\n",
    "plt.show()"
   ]
  },
  {
   "cell_type": "markdown",
   "metadata": {},
   "source": [
    "From the Plots we can clearly see that model created by gradient boosting has highest accuracy compared to other models"
   ]
  },
  {
   "cell_type": "markdown",
   "metadata": {},
   "source": [
    "### Step 09: Calculate the confusion matrix and find the precision, recall, and F1 score of each classification algorithm. Explain how the accuracy of the predication can be improved?"
   ]
  },
  {
   "cell_type": "markdown",
   "metadata": {},
   "source": [
    "### Decision Tree"
   ]
  },
  {
   "cell_type": "code",
   "execution_count": 33,
   "metadata": {},
   "outputs": [
    {
     "name": "stdout",
     "output_type": "stream",
     "text": [
      "Model : Decision Tree\n",
      "-----------------------------\n",
      "Recall : 0.9649848024316109\n",
      "Precision : 0.8429940787552109\n",
      "F1 Score : 0.8998738680007369\n"
     ]
    }
   ],
   "source": [
    "dtmetrics = MulticlassMetrics(dtPredictions.select(\"prediction\", \"label\").rdd)\n",
    "confusionMetrics = dtmetrics.confusionMatrix().values\n",
    "truePositive = confusionMetrics[0]\n",
    "falsePositive = confusionMetrics[1]\n",
    "falseNegative = confusionMetrics[2]\n",
    "trueNegative = confusionMetrics[3]\n",
    "\n",
    "dtRecall = truePositive/(truePositive+falseNegative)\n",
    "dtPrecision = truePositive/(truePositive+falsePositive)\n",
    "dtF1Score = 2*(dtPrecision*dtRecall)/(dtPrecision+dtRecall)\n",
    "\n",
    "print(\"Model : Decision Tree\")\n",
    "print(\"-----------------------------\")\n",
    "print(\"Recall :\",dtRecall)\n",
    "print(\"Precision :\",dtPrecision)\n",
    "print(\"F1 Score :\",dtF1Score)"
   ]
  },
  {
   "cell_type": "markdown",
   "metadata": {},
   "source": [
    "### Random Forest"
   ]
  },
  {
   "cell_type": "code",
   "execution_count": 34,
   "metadata": {},
   "outputs": [
    {
     "name": "stdout",
     "output_type": "stream",
     "text": [
      "Model : Random Forest\n",
      "-----------------------------\n",
      "Recall : 0.9649848024316109\n",
      "Precision : 0.8429940787552109\n",
      "F1 Score : 0.8998738680007369\n"
     ]
    }
   ],
   "source": [
    "rfmetrics = MulticlassMetrics(rfPredictions.select(\"prediction\", \"label\").rdd)\n",
    "confusionMetrics = rfmetrics.confusionMatrix().values\n",
    "truePositive = confusionMetrics[0]\n",
    "falsePositive = confusionMetrics[1]\n",
    "falseNegative = confusionMetrics[2]\n",
    "trueNegative = confusionMetrics[3]\n",
    "\n",
    "rfRecall = truePositive/(truePositive+falseNegative)\n",
    "rfPrecision = truePositive/(truePositive+falsePositive)\n",
    "rfF1Score = 2*(rfPrecision*rfRecall)/(rfPrecision+rfRecall)\n",
    "\n",
    "print(\"Model : Random Forest\")\n",
    "print(\"-----------------------------\")\n",
    "print(\"Recall :\",dtRecall)\n",
    "print(\"Precision :\",dtPrecision)\n",
    "print(\"F1 Score :\",dtF1Score)"
   ]
  },
  {
   "cell_type": "markdown",
   "metadata": {},
   "source": [
    "### Gradient Boosting"
   ]
  },
  {
   "cell_type": "code",
   "execution_count": 35,
   "metadata": {},
   "outputs": [
    {
     "name": "stdout",
     "output_type": "stream",
     "text": [
      "Model : Gradient Boosting\n",
      "-----------------------------\n",
      "Recall : 0.9533738601823708\n",
      "Precision : 0.8540776038121171\n",
      "F1 Score : 0.9009982046678635\n"
     ]
    }
   ],
   "source": [
    "gbmetrics = MulticlassMetrics(gbPredictions.select(\"prediction\", \"label\").rdd)\n",
    "confusionMetrics = gbmetrics.confusionMatrix().values\n",
    "truePositive = confusionMetrics[0]\n",
    "falsePositive = confusionMetrics[1]\n",
    "falseNegative = confusionMetrics[2]\n",
    "trueNegative = confusionMetrics[3]\n",
    "\n",
    "gbRecall = truePositive/(truePositive+falseNegative)\n",
    "gbPrecision = truePositive/(truePositive+falsePositive)\n",
    "gbF1Score = 2*(gbPrecision*gbRecall)/(gbPrecision+gbRecall)\n",
    "\n",
    "print(\"Model : Gradient Boosting\")\n",
    "print(\"-----------------------------\")\n",
    "print(\"Recall :\",gbRecall)\n",
    "print(\"Precision :\",gbPrecision)\n",
    "print(\"F1 Score :\",gbF1Score)"
   ]
  },
  {
   "cell_type": "markdown",
   "metadata": {},
   "source": [
    "### Logistic Regression"
   ]
  },
  {
   "cell_type": "code",
   "execution_count": 36,
   "metadata": {},
   "outputs": [
    {
     "name": "stdout",
     "output_type": "stream",
     "text": [
      "Model : Gradient Boosting\n",
      "-----------------------------\n",
      "Recall : 0.9343465045592705\n",
      "Precision : 0.8446679306460033\n",
      "F1 Score : 0.8872469080570909\n"
     ]
    }
   ],
   "source": [
    "lrmetrics = MulticlassMetrics(lrPredictions.select(\"prediction\", \"label\").rdd)\n",
    "confusionMetrics = lrmetrics.confusionMatrix().values\n",
    "truePositive = confusionMetrics[0]\n",
    "falsePositive = confusionMetrics[1]\n",
    "falseNegative = confusionMetrics[2]\n",
    "trueNegative = confusionMetrics[3]\n",
    "\n",
    "lrRecall = truePositive/(truePositive+falseNegative)\n",
    "lrPrecision = truePositive/(truePositive+falsePositive)\n",
    "lrF1Score = 2*(lrPrecision*lrRecall)/(lrPrecision+lrRecall)\n",
    "\n",
    "print(\"Model : Gradient Boosting\")\n",
    "print(\"-----------------------------\")\n",
    "print(\"Recall :\",lrRecall)\n",
    "print(\"Precision :\",lrPrecision)\n",
    "print(\"F1 Score :\",lrF1Score)"
   ]
  },
  {
   "cell_type": "code",
   "execution_count": 37,
   "metadata": {},
   "outputs": [
    {
     "data": {
      "image/png": "[encoded data removed]",
      "text/plain": [
       "<Figure size 1440x720 with 1 Axes>"
      ]
     },
     "metadata": {
      "needs_background": "light"
     },
     "output_type": "display_data"
    }
   ],
   "source": [
    "values = [(\"Descision Tree\", dtRecall), (\"Random Forest\", rfRecall), (\"Logistic Regression\", lrRecall),\\\n",
    "          (\"Gradient Boosting\", gbRecall)]\n",
    "values = sorted(values, key=lambda x: x[1], reverse=True)\n",
    "models = [key for key,val in values]\n",
    "Accuracy = [val for key,val in values]\n",
    "Accuracy = [round(each*100,2) for each in Accuracy]\n",
    "\n",
    "plt.figure(figsize = (20,10))\n",
    "plt.bar(models, Accuracy, 0.5, align='center', color='C0')\n",
    "plt.yticks(fontsize=15)\n",
    "plt.xticks(rotation = 45, fontsize = 15)\n",
    "plt.xlabel('Models',fontsize=18)\n",
    "plt.ylabel('Recall Values(in %)',fontsize=18)\n",
    "plt.title('Recall Values of tomorrows rain prediction using different models',fontsize=20)\n",
    "\n",
    "plt.show()"
   ]
  },
  {
   "cell_type": "code",
   "execution_count": 38,
   "metadata": {},
   "outputs": [
    {
     "data": {
      "image/png": "[encoded data removed]",
      "text/plain": [
       "<Figure size 1440x720 with 1 Axes>"
      ]
     },
     "metadata": {
      "needs_background": "light"
     },
     "output_type": "display_data"
    }
   ],
   "source": [
    "values = [(\"Descision Tree\", dtPrecision), (\"Random Forest\", rfPrecision), (\"Logistic Regression\", lrPrecision),\\\n",
    "          (\"Gradient Boosting\", gbPrecision)]\n",
    "values = sorted(values, key=lambda x: x[1], reverse=True)\n",
    "models = [key for key,val in values]\n",
    "Accuracy = [val for key,val in values]\n",
    "Accuracy = [round(each*100,2) for each in Accuracy]\n",
    "\n",
    "plt.figure(figsize = (20,10))\n",
    "plt.bar(models, Accuracy, 0.5, align='center', color='C0')\n",
    "plt.yticks(fontsize=15)\n",
    "plt.xticks(rotation = 45, fontsize = 15)\n",
    "plt.xlabel('Models',fontsize=18)\n",
    "plt.ylabel('Precision Values(in %)',fontsize=18)\n",
    "plt.title('precision Values of tomorrows rain prediction using different models',fontsize=20)\n",
    "\n",
    "plt.show()"
   ]
  },
  {
   "cell_type": "code",
   "execution_count": 39,
   "metadata": {},
   "outputs": [
    {
     "data": {
      "image/png": "[encoded data removed]",
      "text/plain": [
       "<Figure size 1440x720 with 1 Axes>"
      ]
     },
     "metadata": {
      "needs_background": "light"
     },
     "output_type": "display_data"
    }
   ],
   "source": [
    "values = [(\"Descision Tree\", dtF1Score), (\"Random Forest\", rfF1Score), (\"Logistic Regression\", lrF1Score),\\\n",
    "          (\"Gradient Boosting\", gbF1Score)]\n",
    "values = sorted(values, key=lambda x: x[1], reverse=True)\n",
    "models = [key for key,val in values]\n",
    "Accuracy = [val for key,val in values]\n",
    "Accuracy = [round(each*100,2) for each in Accuracy]\n",
    "\n",
    "plt.figure(figsize = (20,10))\n",
    "plt.bar(models, Accuracy, 0.5, align='center', color='C0')\n",
    "plt.yticks(fontsize=15)\n",
    "plt.xticks(rotation = 45, fontsize = 15)\n",
    "plt.xlabel('Models',fontsize=18)\n",
    "plt.ylabel('Precision Values(in %)',fontsize=18)\n",
    "plt.title('F1Score Values of tomorrows rain prediction using different models',fontsize=20)\n",
    "\n",
    "plt.show()"
   ]
  },
  {
   "cell_type": "markdown",
   "metadata": {},
   "source": [
    "From the plots its clear that F1 score and precision is maximum for Gradient Boosting and recall is maximum for random forest"
   ]
  },
  {
   "cell_type": "markdown",
   "metadata": {},
   "source": [
    "### Accuracy of each predictions can be improved using methods Like"
   ]
  },
  {
   "cell_type": "markdown",
   "metadata": {},
   "source": [
    "### Cross Validation\n",
    "The goal of cross-validation is to test the model's ability to predict new data that was not used in estimating it, in order to flag problems like overfitting or selection bias and to give an insight on how the model will generalize to an independent dataset (i.e., an unknown dataset, for instance from a real problem).\n",
    "\n",
    "### Fine Tuning the Models\n",
    "Models performance can be further improved by fine tunning various features while creating the model like numTrees in random forest and maxIter in logistics regression and gradient boosting etc changing these values can infulence the overall accuracy of the model. So by fine tuning and finding which value is correct for the model we can increase the overall accuracy of the model"
   ]
  },
  {
   "cell_type": "markdown",
   "metadata": {},
   "source": [
    "### Example of increasing the accuracy by cross validation"
   ]
  },
  {
   "cell_type": "code",
   "execution_count": 40,
   "metadata": {},
   "outputs": [
    {
     "name": "stdout",
     "output_type": "stream",
     "text": [
      "---------------------------------\n",
      "Gradient Boosting Accuracy before cross validation is 0.8377506826099237\n",
      "Gradient Boosting Accuracy After cross validation is 0.8454476979568779\n"
     ]
    }
   ],
   "source": [
    "# ParamGridBuilder() used in grid search-based models\n",
    "# Parametric to ParamGridBuilder.addGrid() is a pair.\n",
    "paramGrid = (ParamGridBuilder()\n",
    "             .addGrid(gbt.maxDepth, [2, 4, 6])\n",
    "             .addGrid(gbt.maxBins, [20, 60])\n",
    "             .addGrid(gbt.maxIter, [10, 20])\n",
    "             .build())\n",
    "\n",
    "cv = CrossValidator(estimator=gbt, estimatorParamMaps=paramGrid,    evaluator=evaluator, numFolds=5)\n",
    " \n",
    "# Run cross validation\n",
    "cvModel = cv.fit(train)\n",
    "predictions = cvModel.transform(test)\n",
    "gbNewAccuracy = evaluator.evaluate(predictions)\n",
    "print(\"---------------------------------\")\n",
    "print(\"Gradient Boosting Accuracy before cross validation is\", gbAccuracy)\n",
    "print(\"Gradient Boosting Accuracy After cross validation is\", gbNewAccuracy)"
   ]
  },
  {
   "cell_type": "markdown",
   "metadata": {},
   "source": [
    "Here we can clearly see that the accuracy of model created by gradient boosting has increased after cross validation"
   ]
  },
  {
   "cell_type": "code",
   "execution_count": null,
   "metadata": {},
   "outputs": [],
   "source": []
  }
 ],
 "metadata": {
  "kernelspec": {
   "display_name": "Python 3",
   "language": "python",
   "name": "python3"
  },
  "language_info": {
   "codemirror_mode": {
    "name": "ipython",
    "version": 3
   },
   "file_extension": ".py",
   "mimetype": "text/x-python",
   "name": "python",
   "nbconvert_exporter": "python",
   "pygments_lexer": "ipython3",
   "version": "3.6.8"
  }
 },
 "nbformat": 4,
 "nbformat_minor": 2
}
